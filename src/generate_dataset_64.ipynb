{
 "cells": [
  {
   "cell_type": "code",
   "execution_count": 1,
   "metadata": {},
   "outputs": [],
   "source": [
    "# THIS NOTEBOOK GENEREATES TRAINING DATASETS WITH 64by64 RESOLUTION"
   ]
  },
  {
   "cell_type": "code",
   "execution_count": 2,
   "metadata": {},
   "outputs": [],
   "source": [
    "%load_ext autoreload\n",
    "%autoreload 2"
   ]
  },
  {
   "cell_type": "code",
   "execution_count": 3,
   "metadata": {},
   "outputs": [],
   "source": [
    "import os\n",
    "import numpy as np\n",
    "from data_loader import DataLoader\n",
    "from utils.visualize import show_images_in_grid"
   ]
  },
  {
   "cell_type": "code",
   "execution_count": 4,
   "metadata": {},
   "outputs": [],
   "source": [
    "root = os.getcwd()\n",
    "data_dir = root+\"/../datasets/data/64/\"\n",
    "data_loaders = {}\n",
    "data_loaders[0] = DataLoader()"
   ]
  },
  {
   "cell_type": "code",
   "execution_count": null,
   "metadata": {},
   "outputs": [],
   "source": [
    "for i in range(1, 6):\n",
    "    data_loaders[i] = DataLoader(features_dir=data_dir+str(i)+\".npy\", labels_dir=data_dir+str(i)+\".npy\")\n",
    "    data_loaders[i].split_train_val_test(train=0.8, val=0.1, test=0.1)\n",
    "    if i == 1:\n",
    "        data_loaders[0].X_train = np.copy(data_loaders[i].X_train) \n",
    "        data_loaders[0].Y_train = np.copy(data_loaders[i].Y_train) \n",
    "        data_loaders[0].X_val = np.copy(data_loaders[i].X_val) \n",
    "        data_loaders[0].Y_val = np.copy(data_loaders[i].Y_val) \n",
    "        data_loaders[0].X_test = np.copy(data_loaders[i].X_test) \n",
    "        data_loaders[0].Y_test = np.copy(data_loaders[i].Y_test)\n",
    "    else:\n",
    "        data_loaders[0].X_train = np.concatenate((data_loaders[0].X_train, data_loaders[i].X_train))\n",
    "        data_loaders[0].Y_train = np.concatenate((data_loaders[0].Y_train, data_loaders[i].Y_train))\n",
    "        data_loaders[0].X_val = np.concatenate((data_loaders[0].X_val, data_loaders[i].X_val))\n",
    "        data_loaders[0].Y_val = np.concatenate((data_loaders[0].Y_val, data_loaders[i].Y_val))\n",
    "        data_loaders[0].X_test = np.concatenate((data_loaders[0].X_test, data_loaders[i].X_test))\n",
    "        data_loaders[0].Y_test = np.concatenate((data_loaders[0].Y_test, data_loaders[i].Y_test))"
   ]
  },
  {
   "cell_type": "code",
   "execution_count": 6,
   "metadata": {},
   "outputs": [],
   "source": [
    "np.save(root+\"/../datasets/train/64/X_train\", data_loaders[0].X_train)\n",
    "np.save(root+\"/../datasets/train/64/Y_train\", data_loaders[0].Y_train)\n",
    "np.save(root+\"/../datasets/val/64/X_val\", data_loaders[0].X_val)\n",
    "np.save(root+\"/../datasets/val/64/Y_val\", data_loaders[0].Y_val)\n",
    "np.save(root+\"/../datasets/test/64/X_test\", data_loaders[0].X_test)\n",
    "np.save(root+\"/../datasets/test/64/Y_test\", data_loaders[0].Y_test)"
   ]
  },
  {
   "cell_type": "code",
   "execution_count": 5,
   "metadata": {},
   "outputs": [],
   "source": [
    "data_loaders[0].X_train = np.load(root+\"/../datasets/train/64/X_train.npy\")\n",
    "data_loaders[0].Y_train = np.load(root+\"/../datasets/train/64/Y_train.npy\")\n",
    "data_loaders[0].X_val = np.load(root+\"/../datasets/val/64/X_val.npy\")\n",
    "data_loaders[0].Y_val = np.load(root+\"/../datasets/val/64/Y_val.npy\")\n",
    "data_loaders[0].X_test = np.load(root+\"/../datasets/test/64/X_test.npy\")\n",
    "data_loaders[0].Y_test = np.load(root+\"/../datasets/test/64/Y_test.npy\")"
   ]
  },
  {
   "cell_type": "code",
   "execution_count": null,
   "metadata": {},
   "outputs": [],
   "source": [
    "show_images_in_grid(images=data_loaders[0].X_train[50], columns=10, rows=5, img_size=(50,50), plot_size=(20,10), rescale=True)"
   ]
  }
 ],
 "metadata": {
  "file_extension": ".py",
  "kernelspec": {
   "display_name": "Python 3",
   "language": "python",
   "name": "python3"
  },
  "language_info": {
   "codemirror_mode": {
    "name": "ipython",
    "version": 3
   },
   "file_extension": ".py",
   "mimetype": "text/x-python",
   "name": "python",
   "nbconvert_exporter": "python",
   "pygments_lexer": "ipython3",
   "version": "3.7.3"
  },
  "mimetype": "text/x-python",
  "name": "python",
  "npconvert_exporter": "python",
  "pygments_lexer": "ipython3",
  "version": 3
 },
 "nbformat": 4,
 "nbformat_minor": 2
}
