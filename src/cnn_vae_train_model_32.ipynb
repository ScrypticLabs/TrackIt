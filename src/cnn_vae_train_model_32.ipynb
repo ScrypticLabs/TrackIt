{
 "cells": [
  {
   "cell_type": "code",
   "execution_count": 1,
   "metadata": {},
   "outputs": [],
   "source": [
    "# THIS NOTEBOOK TRAINS THE CNN VAE AUTOENCODER. STATUS: FAILS TO CONVERGE"
   ]
  },
  {
   "cell_type": "code",
   "execution_count": 2,
   "metadata": {},
   "outputs": [],
   "source": [
    "%load_ext autoreload\n",
    "%autoreload 2"
   ]
  },
  {
   "cell_type": "code",
   "execution_count": 3,
   "metadata": {},
   "outputs": [
    {
     "name": "stderr",
     "output_type": "stream",
     "text": [
      "Using TensorFlow backend.\n",
      "/home/abhi/anaconda3/envs/envTF113/lib/python3.6/site-packages/tensorflow/python/framework/dtypes.py:526: FutureWarning: Passing (type, 1) or '1type' as a synonym of type is deprecated; in a future version of numpy, it will be understood as (type, (1,)) / '(1,)type'.\n",
      "  _np_qint8 = np.dtype([(\"qint8\", np.int8, 1)])\n",
      "/home/abhi/anaconda3/envs/envTF113/lib/python3.6/site-packages/tensorflow/python/framework/dtypes.py:527: FutureWarning: Passing (type, 1) or '1type' as a synonym of type is deprecated; in a future version of numpy, it will be understood as (type, (1,)) / '(1,)type'.\n",
      "  _np_quint8 = np.dtype([(\"quint8\", np.uint8, 1)])\n",
      "/home/abhi/anaconda3/envs/envTF113/lib/python3.6/site-packages/tensorflow/python/framework/dtypes.py:528: FutureWarning: Passing (type, 1) or '1type' as a synonym of type is deprecated; in a future version of numpy, it will be understood as (type, (1,)) / '(1,)type'.\n",
      "  _np_qint16 = np.dtype([(\"qint16\", np.int16, 1)])\n",
      "/home/abhi/anaconda3/envs/envTF113/lib/python3.6/site-packages/tensorflow/python/framework/dtypes.py:529: FutureWarning: Passing (type, 1) or '1type' as a synonym of type is deprecated; in a future version of numpy, it will be understood as (type, (1,)) / '(1,)type'.\n",
      "  _np_quint16 = np.dtype([(\"quint16\", np.uint16, 1)])\n",
      "/home/abhi/anaconda3/envs/envTF113/lib/python3.6/site-packages/tensorflow/python/framework/dtypes.py:530: FutureWarning: Passing (type, 1) or '1type' as a synonym of type is deprecated; in a future version of numpy, it will be understood as (type, (1,)) / '(1,)type'.\n",
      "  _np_qint32 = np.dtype([(\"qint32\", np.int32, 1)])\n",
      "/home/abhi/anaconda3/envs/envTF113/lib/python3.6/site-packages/tensorflow/python/framework/dtypes.py:535: FutureWarning: Passing (type, 1) or '1type' as a synonym of type is deprecated; in a future version of numpy, it will be understood as (type, (1,)) / '(1,)type'.\n",
      "  np_resource = np.dtype([(\"resource\", np.ubyte, 1)])\n"
     ]
    }
   ],
   "source": [
    "import os\n",
    "import numpy as np\n",
    "from data_loader import DataLoader\n",
    "from utils.visualize import show_images_in_grid, show_reconstruction\n",
    "from cnn_vae import Autoencoder\n",
    "import random\n",
    "import matplotlib.pyplot as plt"
   ]
  },
  {
   "cell_type": "code",
   "execution_count": 4,
   "metadata": {},
   "outputs": [],
   "source": [
    "root = os.getcwd()"
   ]
  },
  {
   "cell_type": "code",
   "execution_count": 5,
   "metadata": {},
   "outputs": [],
   "source": [
    "cnn_data_loader = DataLoader()"
   ]
  },
  {
   "cell_type": "code",
   "execution_count": 6,
   "metadata": {},
   "outputs": [],
   "source": [
    "cnn_data_loader.X_train = np.reshape(np.load(root+\"/../datasets/train/32/X_train_normalized.npy\"), (-1, 32, 32, 3))\n",
    "cnn_data_loader.Y_train = np.reshape(np.load(root+\"/../datasets/train/32/Y_train_normalized.npy\"), (-1, 32, 32, 3))\n",
    "cnn_data_loader.X_val = np.reshape(np.load(root+\"/../datasets/val/32/X_val_normalized.npy\"), (-1, 32, 32, 3))\n",
    "cnn_data_loader.Y_val = np.reshape(np.load(root+\"/../datasets/val/32/Y_val_normalized.npy\"), (-1, 32, 32, 3))\n",
    "cnn_data_loader.X_test = np.reshape(np.load(root+\"/../datasets/test/32/X_test_normalized.npy\"), (-1, 32, 32, 3))\n",
    "cnn_data_loader.Y_test = np.reshape(np.load(root+\"/../datasets/test/32/Y_test_normalized.npy\"), (-1, 32, 32, 3))"
   ]
  },
  {
   "cell_type": "code",
   "execution_count": 7,
   "metadata": {},
   "outputs": [
    {
     "data": {
      "text/plain": [
       "((16000, 32, 32, 3), (2000, 32, 32, 3), (2000, 32, 32, 3))"
      ]
     },
     "execution_count": 7,
     "metadata": {},
     "output_type": "execute_result"
    }
   ],
   "source": [
    "cnn_data_loader.X_train.shape, cnn_data_loader.X_val.shape, cnn_data_loader.X_test.shape"
   ]
  },
  {
   "cell_type": "code",
   "execution_count": 8,
   "metadata": {},
   "outputs": [
    {
     "name": "stdout",
     "output_type": "stream",
     "text": [
      "WARNING:tensorflow:From /home/abhi/anaconda3/envs/envTF113/lib/python3.6/site-packages/tensorflow/python/ops/resource_variable_ops.py:435: colocate_with (from tensorflow.python.framework.ops) is deprecated and will be removed in a future version.\n",
      "Instructions for updating:\n",
      "Colocations handled automatically by placer.\n"
     ]
    }
   ],
   "source": [
    "ae = Autoencoder()\n",
    "ae.build_model(input_dim=(32, 32, 3), latent_dim=(64,))\n",
    "ae.set_weights(root+\"/../models/autoencoder_vae_32_v1.h5\")"
   ]
  },
  {
   "cell_type": "code",
   "execution_count": 9,
   "metadata": {},
   "outputs": [
    {
     "name": "stdout",
     "output_type": "stream",
     "text": [
      "Model: \"model_2\"\n",
      "__________________________________________________________________________________________________\n",
      "Layer (type)                    Output Shape         Param #     Connected to                     \n",
      "==================================================================================================\n",
      "input_1 (InputLayer)            (None, 32, 32, 3)    0                                            \n",
      "__________________________________________________________________________________________________\n",
      "conv2d_1 (Conv2D)               (None, 16, 16, 64)   3136        input_1[0][0]                    \n",
      "__________________________________________________________________________________________________\n",
      "conv2d_2 (Conv2D)               (None, 8, 8, 64)     65600       conv2d_1[0][0]                   \n",
      "__________________________________________________________________________________________________\n",
      "conv2d_3 (Conv2D)               (None, 8, 8, 64)     65600       conv2d_2[0][0]                   \n",
      "__________________________________________________________________________________________________\n",
      "flatten_1 (Flatten)             (None, 4096)         0           conv2d_3[0][0]                   \n",
      "__________________________________________________________________________________________________\n",
      "dense_1 (Dense)                 (None, 64)           262208      flatten_1[0][0]                  \n",
      "__________________________________________________________________________________________________\n",
      "dense_2 (Dense)                 (None, 64)           262208      flatten_1[0][0]                  \n",
      "__________________________________________________________________________________________________\n",
      "lambda_1 (Lambda)               (None, 64)           0           dense_1[0][0]                    \n",
      "                                                                 dense_2[0][0]                    \n",
      "==================================================================================================\n",
      "Total params: 658,752\n",
      "Trainable params: 658,752\n",
      "Non-trainable params: 0\n",
      "__________________________________________________________________________________________________\n"
     ]
    }
   ],
   "source": [
    "ae.encoder.summary()"
   ]
  },
  {
   "cell_type": "code",
   "execution_count": 10,
   "metadata": {},
   "outputs": [
    {
     "name": "stdout",
     "output_type": "stream",
     "text": [
      "Model: \"model_3\"\n",
      "_________________________________________________________________\n",
      "Layer (type)                 Output Shape              Param #   \n",
      "=================================================================\n",
      "input_2 (InputLayer)         (None, 64)                0         \n",
      "_________________________________________________________________\n",
      "dense_3 (Dense)              (None, 192)               12480     \n",
      "_________________________________________________________________\n",
      "reshape_1 (Reshape)          (None, 8, 8, 3)           0         \n",
      "_________________________________________________________________\n",
      "conv2d_transpose_1 (Conv2DTr (None, 16, 16, 64)        3136      \n",
      "_________________________________________________________________\n",
      "conv2d_transpose_2 (Conv2DTr (None, 32, 32, 64)        65600     \n",
      "_________________________________________________________________\n",
      "conv2d_transpose_3 (Conv2DTr (None, 32, 32, 64)        65600     \n",
      "_________________________________________________________________\n",
      "flatten_2 (Flatten)          (None, 65536)             0         \n",
      "_________________________________________________________________\n",
      "dense_4 (Dense)              (None, 3072)              201329664 \n",
      "_________________________________________________________________\n",
      "reshape_2 (Reshape)          (None, 32, 32, 3)         0         \n",
      "=================================================================\n",
      "Total params: 201,476,480\n",
      "Trainable params: 201,476,480\n",
      "Non-trainable params: 0\n",
      "_________________________________________________________________\n"
     ]
    }
   ],
   "source": [
    "ae.decoder.summary()"
   ]
  },
  {
   "cell_type": "code",
   "execution_count": 11,
   "metadata": {},
   "outputs": [],
   "source": [
    "history = {\n",
    "    \"loss\" : [],\n",
    "    \"val_loss\" : []\n",
    "} "
   ]
  },
  {
   "cell_type": "code",
   "execution_count": 12,
   "metadata": {},
   "outputs": [
    {
     "name": "stdout",
     "output_type": "stream",
     "text": [
      "EPOCH 0\n",
      "WARNING:tensorflow:From /home/abhi/anaconda3/envs/envTF113/lib/python3.6/site-packages/tensorflow/python/ops/math_ops.py:3066: to_int32 (from tensorflow.python.ops.math_ops) is deprecated and will be removed in a future version.\n",
      "Instructions for updating:\n",
      "Use tf.cast instead.\n",
      "Train on 16000 samples, validate on 2000 samples\n",
      "Epoch 1/1\n",
      "16000/16000 [==============================] - 57s 4ms/step - loss: 31.3724 - val_loss: 21.8853\n"
     ]
    },
    {
     "data": {
      "image/png": "[encoded data removed]",
      "text/plain": [
       "<Figure size 432x288 with 2 Axes>"
      ]
     },
     "metadata": {
      "needs_background": "light"
     },
     "output_type": "display_data"
    },
    {
     "name": "stdout",
     "output_type": "stream",
     "text": [
      "EPOCH 1\n",
      "Train on 16000 samples, validate on 2000 samples\n",
      "Epoch 1/1\n",
      "16000/16000 [==============================] - 47s 3ms/step - loss: 19.5345 - val_loss: 21.4729\n",
      "EPOCH 2\n",
      "Train on 16000 samples, validate on 2000 samples\n",
      "Epoch 1/1\n",
      "16000/16000 [==============================] - 47s 3ms/step - loss: 19.3830 - val_loss: 21.4780\n",
      "EPOCH 3\n",
      "Train on 16000 samples, validate on 2000 samples\n",
      "Epoch 1/1\n",
      "16000/16000 [==============================] - 47s 3ms/step - loss: 19.3743 - val_loss: 21.4477\n",
      "EPOCH 4\n",
      "Train on 16000 samples, validate on 2000 samples\n",
      "Epoch 1/1\n",
      "16000/16000 [==============================] - 47s 3ms/step - loss: 19.3620 - val_loss: 21.4341\n",
      "EPOCH 5\n",
      "Train on 16000 samples, validate on 2000 samples\n",
      "Epoch 1/1\n",
      "16000/16000 [==============================] - 47s 3ms/step - loss: 19.3536 - val_loss: 21.4321\n"
     ]
    },
    {
     "data": {
      "image/png": "[encoded data removed]",
      "text/plain": [
       "<Figure size 432x288 with 2 Axes>"
      ]
     },
     "metadata": {
      "needs_background": "light"
     },
     "output_type": "display_data"
    },
    {
     "name": "stdout",
     "output_type": "stream",
     "text": [
      "EPOCH 6\n",
      "Train on 16000 samples, validate on 2000 samples\n",
      "Epoch 1/1\n",
      "16000/16000 [==============================] - 47s 3ms/step - loss: 19.3469 - val_loss: 21.4255\n",
      "EPOCH 7\n",
      "Train on 16000 samples, validate on 2000 samples\n",
      "Epoch 1/1\n",
      "16000/16000 [==============================] - 47s 3ms/step - loss: 19.3451 - val_loss: 21.4116\n",
      "EPOCH 8\n",
      "Train on 16000 samples, validate on 2000 samples\n",
      "Epoch 1/1\n",
      "16000/16000 [==============================] - 47s 3ms/step - loss: 19.3381 - val_loss: 21.4117\n",
      "EPOCH 9\n",
      "Train on 16000 samples, validate on 2000 samples\n",
      "Epoch 1/1\n",
      "16000/16000 [==============================] - 48s 3ms/step - loss: 19.3299 - val_loss: 21.3987\n",
      "EPOCH 10\n",
      "Train on 16000 samples, validate on 2000 samples\n",
      "Epoch 1/1\n",
      "16000/16000 [==============================] - 48s 3ms/step - loss: 19.3236 - val_loss: 21.3946\n"
     ]
    },
    {
     "data": {
      "image/png": "[encoded data removed]",
      "text/plain": [
       "<Figure size 432x288 with 2 Axes>"
      ]
     },
     "metadata": {
      "needs_background": "light"
     },
     "output_type": "display_data"
    },
    {
     "name": "stdout",
     "output_type": "stream",
     "text": [
      "EPOCH 11\n",
      "Train on 16000 samples, validate on 2000 samples\n",
      "Epoch 1/1\n",
      "16000/16000 [==============================] - 47s 3ms/step - loss: 19.3185 - val_loss: 21.4093\n",
      "EPOCH 12\n",
      "Train on 16000 samples, validate on 2000 samples\n",
      "Epoch 1/1\n",
      "16000/16000 [==============================] - 47s 3ms/step - loss: 19.3179 - val_loss: 21.3968\n",
      "EPOCH 13\n",
      "Train on 16000 samples, validate on 2000 samples\n",
      "Epoch 1/1\n",
      "16000/16000 [==============================] - 47s 3ms/step - loss: 19.3167 - val_loss: 21.3874\n",
      "EPOCH 14\n",
      "Train on 16000 samples, validate on 2000 samples\n",
      "Epoch 1/1\n",
      "16000/16000 [==============================] - 47s 3ms/step - loss: 19.3157 - val_loss: 21.4168\n",
      "EPOCH 15\n",
      "Train on 16000 samples, validate on 2000 samples\n",
      "Epoch 1/1\n",
      "16000/16000 [==============================] - 48s 3ms/step - loss: 19.3147 - val_loss: 21.3895\n"
     ]
    },
    {
     "data": {
      "image/png": "[encoded data removed]",
      "text/plain": [
       "<Figure size 432x288 with 2 Axes>"
      ]
     },
     "metadata": {
      "needs_background": "light"
     },
     "output_type": "display_data"
    },
    {
     "name": "stdout",
     "output_type": "stream",
     "text": [
      "EPOCH 16\n",
      "Train on 16000 samples, validate on 2000 samples\n",
      "Epoch 1/1\n",
      "16000/16000 [==============================] - 47s 3ms/step - loss: 19.3151 - val_loss: 21.3835\n",
      "EPOCH 17\n",
      "Train on 16000 samples, validate on 2000 samples\n",
      "Epoch 1/1\n",
      "16000/16000 [==============================] - 47s 3ms/step - loss: 19.3129 - val_loss: 21.3829\n",
      "EPOCH 18\n",
      "Train on 16000 samples, validate on 2000 samples\n",
      "Epoch 1/1\n",
      "16000/16000 [==============================] - 47s 3ms/step - loss: 19.3124 - val_loss: 21.3826\n",
      "EPOCH 19\n",
      "Train on 16000 samples, validate on 2000 samples\n",
      "Epoch 1/1\n",
      "16000/16000 [==============================] - 47s 3ms/step - loss: 19.3112 - val_loss: 21.3776\n",
      "EPOCH 20\n",
      "Train on 16000 samples, validate on 2000 samples\n",
      "Epoch 1/1\n",
      "16000/16000 [==============================] - 47s 3ms/step - loss: 19.3089 - val_loss: 21.3925\n"
     ]
    },
    {
     "data": {
      "image/png": "[encoded data removed]",
      "text/plain": [
       "<Figure size 432x288 with 2 Axes>"
      ]
     },
     "metadata": {
      "needs_background": "light"
     },
     "output_type": "display_data"
    },
    {
     "name": "stdout",
     "output_type": "stream",
     "text": [
      "EPOCH 21\n",
      "Train on 16000 samples, validate on 2000 samples\n",
      "Epoch 1/1\n",
      "16000/16000 [==============================] - 47s 3ms/step - loss: 19.3097 - val_loss: 21.3833\n",
      "EPOCH 22\n",
      "Train on 16000 samples, validate on 2000 samples\n",
      "Epoch 1/1\n",
      "16000/16000 [==============================] - 47s 3ms/step - loss: 19.3079 - val_loss: 21.3852\n",
      "EPOCH 23\n",
      "Train on 16000 samples, validate on 2000 samples\n",
      "Epoch 1/1\n",
      "16000/16000 [==============================] - 47s 3ms/step - loss: 19.3079 - val_loss: 21.3896\n",
      "EPOCH 24\n",
      "Train on 16000 samples, validate on 2000 samples\n",
      "Epoch 1/1\n",
      "16000/16000 [==============================] - 47s 3ms/step - loss: 19.3076 - val_loss: 21.3779\n",
      "EPOCH 25\n",
      "Train on 16000 samples, validate on 2000 samples\n",
      "Epoch 1/1\n",
      "16000/16000 [==============================] - 48s 3ms/step - loss: 19.3063 - val_loss: 21.3847\n"
     ]
    },
    {
     "data": {
      "image/png": "[encoded data removed]",
      "text/plain": [
       "<Figure size 432x288 with 2 Axes>"
      ]
     },
     "metadata": {
      "needs_background": "light"
     },
     "output_type": "display_data"
    },
    {
     "name": "stdout",
     "output_type": "stream",
     "text": [
      "EPOCH 26\n",
      "Train on 16000 samples, validate on 2000 samples\n",
      "Epoch 1/1\n",
      "16000/16000 [==============================] - 47s 3ms/step - loss: 19.3056 - val_loss: 21.3820\n",
      "EPOCH 27\n",
      "Train on 16000 samples, validate on 2000 samples\n",
      "Epoch 1/1\n",
      "16000/16000 [==============================] - 47s 3ms/step - loss: 19.3056 - val_loss: 21.3812\n",
      "EPOCH 28\n",
      "Train on 16000 samples, validate on 2000 samples\n",
      "Epoch 1/1\n",
      "16000/16000 [==============================] - 47s 3ms/step - loss: 19.3054 - val_loss: 21.3888\n",
      "EPOCH 29\n",
      "Train on 16000 samples, validate on 2000 samples\n",
      "Epoch 1/1\n",
      "16000/16000 [==============================] - 47s 3ms/step - loss: 19.3049 - val_loss: 21.3796\n",
      "EPOCH 30\n",
      "Train on 16000 samples, validate on 2000 samples\n",
      "Epoch 1/1\n",
      "16000/16000 [==============================] - 47s 3ms/step - loss: 19.3047 - val_loss: 21.3836\n"
     ]
    },
    {
     "data": {
      "image/png": "[encoded data removed]",
      "text/plain": [
       "<Figure size 432x288 with 2 Axes>"
      ]
     },
     "metadata": {
      "needs_background": "light"
     },
     "output_type": "display_data"
    },
    {
     "name": "stdout",
     "output_type": "stream",
     "text": [
      "EPOCH 31\n",
      "Train on 16000 samples, validate on 2000 samples\n",
      "Epoch 1/1\n",
      "16000/16000 [==============================] - 47s 3ms/step - loss: 19.3050 - val_loss: 21.3919\n",
      "EPOCH 32\n",
      "Train on 16000 samples, validate on 2000 samples\n",
      "Epoch 1/1\n",
      "16000/16000 [==============================] - 48s 3ms/step - loss: 19.3044 - val_loss: 21.3870\n",
      "EPOCH 33\n",
      "Train on 16000 samples, validate on 2000 samples\n",
      "Epoch 1/1\n",
      "16000/16000 [==============================] - 47s 3ms/step - loss: 19.3039 - val_loss: 21.3762\n",
      "EPOCH 34\n",
      "Train on 16000 samples, validate on 2000 samples\n",
      "Epoch 1/1\n",
      "16000/16000 [==============================] - 47s 3ms/step - loss: 19.3032 - val_loss: 21.3829\n",
      "EPOCH 35\n",
      "Train on 16000 samples, validate on 2000 samples\n",
      "Epoch 1/1\n",
      "16000/16000 [==============================] - 47s 3ms/step - loss: 19.3036 - val_loss: 21.3825\n"
     ]
    },
    {
     "data": {
      "image/png": "[encoded data removed]",
      "text/plain": [
       "<Figure size 432x288 with 2 Axes>"
      ]
     },
     "metadata": {
      "needs_background": "light"
     },
     "output_type": "display_data"
    },
    {
     "name": "stdout",
     "output_type": "stream",
     "text": [
      "EPOCH 36\n",
      "Train on 16000 samples, validate on 2000 samples\n",
      "Epoch 1/1\n",
      "16000/16000 [==============================] - 47s 3ms/step - loss: 19.3039 - val_loss: 21.3766\n",
      "EPOCH 37\n",
      "Train on 16000 samples, validate on 2000 samples\n",
      "Epoch 1/1\n",
      "16000/16000 [==============================] - 47s 3ms/step - loss: 19.3037 - val_loss: 21.3848\n",
      "EPOCH 38\n",
      "Train on 16000 samples, validate on 2000 samples\n",
      "Epoch 1/1\n",
      "16000/16000 [==============================] - 47s 3ms/step - loss: 19.3028 - val_loss: 21.3815\n",
      "EPOCH 39\n",
      "Train on 16000 samples, validate on 2000 samples\n",
      "Epoch 1/1\n",
      "16000/16000 [==============================] - 47s 3ms/step - loss: 19.3023 - val_loss: 21.3729\n",
      "EPOCH 40\n",
      "Train on 16000 samples, validate on 2000 samples\n",
      "Epoch 1/1\n",
      "16000/16000 [==============================] - 47s 3ms/step - loss: 19.3026 - val_loss: 21.3937\n"
     ]
    },
    {
     "data": {
      "image/png": "[encoded data removed]",
      "text/plain": [
       "<Figure size 432x288 with 2 Axes>"
      ]
     },
     "metadata": {
      "needs_background": "light"
     },
     "output_type": "display_data"
    },
    {
     "name": "stdout",
     "output_type": "stream",
     "text": [
      "EPOCH 41\n",
      "Train on 16000 samples, validate on 2000 samples\n",
      "Epoch 1/1\n",
      "16000/16000 [==============================] - 47s 3ms/step - loss: 19.3025 - val_loss: 21.3724\n",
      "EPOCH 42\n",
      "Train on 16000 samples, validate on 2000 samples\n",
      "Epoch 1/1\n",
      "16000/16000 [==============================] - 48s 3ms/step - loss: 19.3023 - val_loss: 21.3799\n",
      "EPOCH 43\n",
      "Train on 16000 samples, validate on 2000 samples\n",
      "Epoch 1/1\n",
      "16000/16000 [==============================] - 47s 3ms/step - loss: 19.3019 - val_loss: 21.3812\n",
      "EPOCH 44\n",
      "Train on 16000 samples, validate on 2000 samples\n",
      "Epoch 1/1\n",
      "16000/16000 [==============================] - 47s 3ms/step - loss: 19.3022 - val_loss: 21.3801\n",
      "EPOCH 45\n",
      "Train on 16000 samples, validate on 2000 samples\n",
      "Epoch 1/1\n",
      "16000/16000 [==============================] - 47s 3ms/step - loss: 19.3019 - val_loss: 21.3776\n"
     ]
    },
    {
     "data": {
      "image/png": "[encoded data removed]",
      "text/plain": [
       "<Figure size 432x288 with 2 Axes>"
      ]
     },
     "metadata": {
      "needs_background": "light"
     },
     "output_type": "display_data"
    },
    {
     "name": "stdout",
     "output_type": "stream",
     "text": [
      "EPOCH 46\n",
      "Train on 16000 samples, validate on 2000 samples\n",
      "Epoch 1/1\n",
      "16000/16000 [==============================] - 47s 3ms/step - loss: 19.3022 - val_loss: 21.3810\n",
      "EPOCH 47\n",
      "Train on 16000 samples, validate on 2000 samples\n",
      "Epoch 1/1\n",
      "16000/16000 [==============================] - 47s 3ms/step - loss: 19.3022 - val_loss: 21.3824\n",
      "EPOCH 48\n",
      "Train on 16000 samples, validate on 2000 samples\n",
      "Epoch 1/1\n",
      "16000/16000 [==============================] - 47s 3ms/step - loss: 19.3017 - val_loss: 21.3731\n",
      "EPOCH 49\n",
      "Train on 16000 samples, validate on 2000 samples\n",
      "Epoch 1/1\n",
      "16000/16000 [==============================] - 47s 3ms/step - loss: 19.3013 - val_loss: 21.3822\n",
      "EPOCH 50\n",
      "Train on 16000 samples, validate on 2000 samples\n",
      "Epoch 1/1\n",
      "16000/16000 [==============================] - 47s 3ms/step - loss: 19.3009 - val_loss: 21.3770\n"
     ]
    },
    {
     "data": {
      "image/png": "[encoded data removed]",
      "text/plain": [
       "<Figure size 432x288 with 2 Axes>"
      ]
     },
     "metadata": {
      "needs_background": "light"
     },
     "output_type": "display_data"
    },
    {
     "name": "stdout",
     "output_type": "stream",
     "text": [
      "EPOCH 51\n",
      "Train on 16000 samples, validate on 2000 samples\n",
      "Epoch 1/1\n",
      "16000/16000 [==============================] - 47s 3ms/step - loss: 19.3012 - val_loss: 21.3788\n",
      "EPOCH 52\n",
      "Train on 16000 samples, validate on 2000 samples\n",
      "Epoch 1/1\n",
      "16000/16000 [==============================] - 47s 3ms/step - loss: 19.3008 - val_loss: 21.3691\n",
      "EPOCH 53\n",
      "Train on 16000 samples, validate on 2000 samples\n",
      "Epoch 1/1\n",
      "16000/16000 [==============================] - 47s 3ms/step - loss: 19.3009 - val_loss: 21.3757\n",
      "EPOCH 54\n",
      "Train on 16000 samples, validate on 2000 samples\n",
      "Epoch 1/1\n",
      "16000/16000 [==============================] - 49s 3ms/step - loss: 19.3007 - val_loss: 21.3738\n",
      "EPOCH 55\n",
      "Train on 16000 samples, validate on 2000 samples\n",
      "Epoch 1/1\n",
      "16000/16000 [==============================] - 49s 3ms/step - loss: 19.3009 - val_loss: 21.3793\n"
     ]
    },
    {
     "data": {
      "image/png": "[encoded data removed]",
      "text/plain": [
       "<Figure size 432x288 with 2 Axes>"
      ]
     },
     "metadata": {
      "needs_background": "light"
     },
     "output_type": "display_data"
    },
    {
     "name": "stdout",
     "output_type": "stream",
     "text": [
      "EPOCH 56\n",
      "Train on 16000 samples, validate on 2000 samples\n",
      "Epoch 1/1\n",
      "16000/16000 [==============================] - 48s 3ms/step - loss: 19.3004 - val_loss: 21.3770\n",
      "EPOCH 57\n",
      "Train on 16000 samples, validate on 2000 samples\n",
      "Epoch 1/1\n",
      "16000/16000 [==============================] - 48s 3ms/step - loss: 19.3000 - val_loss: 21.3828\n",
      "EPOCH 58\n",
      "Train on 16000 samples, validate on 2000 samples\n",
      "Epoch 1/1\n",
      "16000/16000 [==============================] - 46s 3ms/step - loss: 19.3001 - val_loss: 21.3785\n",
      "EPOCH 59\n",
      "Train on 16000 samples, validate on 2000 samples\n",
      "Epoch 1/1\n",
      "16000/16000 [==============================] - 47s 3ms/step - loss: 19.3007 - val_loss: 21.3849\n",
      "EPOCH 60\n",
      "Train on 16000 samples, validate on 2000 samples\n",
      "Epoch 1/1\n",
      "16000/16000 [==============================] - 46s 3ms/step - loss: 19.3005 - val_loss: 21.3740\n"
     ]
    },
    {
     "data": {
      "image/png": "[encoded data removed]",
      "text/plain": [
       "<Figure size 432x288 with 2 Axes>"
      ]
     },
     "metadata": {
      "needs_background": "light"
     },
     "output_type": "display_data"
    },
    {
     "name": "stdout",
     "output_type": "stream",
     "text": [
      "EPOCH 61\n",
      "Train on 16000 samples, validate on 2000 samples\n",
      "Epoch 1/1\n",
      "16000/16000 [==============================] - 46s 3ms/step - loss: 19.3007 - val_loss: 21.3712\n",
      "EPOCH 62\n",
      "Train on 16000 samples, validate on 2000 samples\n",
      "Epoch 1/1\n",
      "16000/16000 [==============================] - 46s 3ms/step - loss: 19.2995 - val_loss: 21.3721\n",
      "EPOCH 63\n",
      "Train on 16000 samples, validate on 2000 samples\n",
      "Epoch 1/1\n",
      "16000/16000 [==============================] - 46s 3ms/step - loss: 19.2997 - val_loss: 21.3727\n",
      "EPOCH 64\n",
      "Train on 16000 samples, validate on 2000 samples\n",
      "Epoch 1/1\n",
      "16000/16000 [==============================] - 46s 3ms/step - loss: 19.2995 - val_loss: 21.3721\n",
      "EPOCH 65\n",
      "Train on 16000 samples, validate on 2000 samples\n",
      "Epoch 1/1\n",
      "16000/16000 [==============================] - 46s 3ms/step - loss: 19.2999 - val_loss: 21.3801\n"
     ]
    },
    {
     "data": {
      "image/png": "[encoded data removed]",
      "text/plain": [
       "<Figure size 432x288 with 2 Axes>"
      ]
     },
     "metadata": {
      "needs_background": "light"
     },
     "output_type": "display_data"
    },
    {
     "name": "stdout",
     "output_type": "stream",
     "text": [
      "EPOCH 66\n",
      "Train on 16000 samples, validate on 2000 samples\n",
      "Epoch 1/1\n",
      "16000/16000 [==============================] - 46s 3ms/step - loss: 19.2999 - val_loss: 21.3744\n",
      "EPOCH 67\n",
      "Train on 16000 samples, validate on 2000 samples\n",
      "Epoch 1/1\n",
      "16000/16000 [==============================] - 48s 3ms/step - loss: 19.2995 - val_loss: 21.3796\n",
      "EPOCH 68\n",
      "Train on 16000 samples, validate on 2000 samples\n",
      "Epoch 1/1\n",
      "16000/16000 [==============================] - 47s 3ms/step - loss: 19.2990 - val_loss: 21.3783\n",
      "EPOCH 69\n",
      "Train on 16000 samples, validate on 2000 samples\n",
      "Epoch 1/1\n",
      "16000/16000 [==============================] - 47s 3ms/step - loss: 19.2993 - val_loss: 21.3737\n",
      "EPOCH 70\n",
      "Train on 16000 samples, validate on 2000 samples\n",
      "Epoch 1/1\n",
      "16000/16000 [==============================] - 47s 3ms/step - loss: 19.2989 - val_loss: 21.3723\n"
     ]
    },
    {
     "data": {
      "image/png": "[encoded data removed]",
      "text/plain": [
       "<Figure size 432x288 with 2 Axes>"
      ]
     },
     "metadata": {
      "needs_background": "light"
     },
     "output_type": "display_data"
    },
    {
     "name": "stdout",
     "output_type": "stream",
     "text": [
      "EPOCH 71\n",
      "Train on 16000 samples, validate on 2000 samples\n",
      "Epoch 1/1\n",
      "16000/16000 [==============================] - 46s 3ms/step - loss: 19.2997 - val_loss: 21.3770\n",
      "EPOCH 72\n",
      "Train on 16000 samples, validate on 2000 samples\n",
      "Epoch 1/1\n",
      "16000/16000 [==============================] - 46s 3ms/step - loss: 19.2996 - val_loss: 21.3762\n",
      "EPOCH 73\n",
      "Train on 16000 samples, validate on 2000 samples\n",
      "Epoch 1/1\n",
      "16000/16000 [==============================] - 47s 3ms/step - loss: 19.2988 - val_loss: 21.3678\n",
      "EPOCH 74\n",
      "Train on 16000 samples, validate on 2000 samples\n",
      "Epoch 1/1\n",
      "16000/16000 [==============================] - 46s 3ms/step - loss: 19.2991 - val_loss: 21.3813\n",
      "EPOCH 75\n",
      "Train on 16000 samples, validate on 2000 samples\n",
      "Epoch 1/1\n",
      "16000/16000 [==============================] - 46s 3ms/step - loss: 19.2998 - val_loss: 21.3751\n"
     ]
    },
    {
     "data": {
      "image/png": "[encoded data removed]",
      "text/plain": [
       "<Figure size 432x288 with 2 Axes>"
      ]
     },
     "metadata": {
      "needs_background": "light"
     },
     "output_type": "display_data"
    },
    {
     "name": "stdout",
     "output_type": "stream",
     "text": [
      "EPOCH 76\n",
      "Train on 16000 samples, validate on 2000 samples\n",
      "Epoch 1/1\n",
      "16000/16000 [==============================] - 46s 3ms/step - loss: 19.2997 - val_loss: 21.3733\n",
      "EPOCH 77\n",
      "Train on 16000 samples, validate on 2000 samples\n",
      "Epoch 1/1\n",
      "16000/16000 [==============================] - 46s 3ms/step - loss: 19.2984 - val_loss: 21.3686\n",
      "EPOCH 78\n",
      "Train on 16000 samples, validate on 2000 samples\n",
      "Epoch 1/1\n",
      "16000/16000 [==============================] - 46s 3ms/step - loss: 19.2993 - val_loss: 21.3721\n",
      "EPOCH 79\n",
      "Train on 16000 samples, validate on 2000 samples\n",
      "Epoch 1/1\n",
      "16000/16000 [==============================] - 48s 3ms/step - loss: 19.2988 - val_loss: 21.3689\n",
      "EPOCH 80\n",
      "Train on 16000 samples, validate on 2000 samples\n",
      "Epoch 1/1\n",
      "16000/16000 [==============================] - 47s 3ms/step - loss: 19.2987 - val_loss: 21.3726\n"
     ]
    },
    {
     "data": {
      "image/png": "[encoded data removed]",
      "text/plain": [
       "<Figure size 432x288 with 2 Axes>"
      ]
     },
     "metadata": {
      "needs_background": "light"
     },
     "output_type": "display_data"
    },
    {
     "name": "stdout",
     "output_type": "stream",
     "text": [
      "EPOCH 81\n",
      "Train on 16000 samples, validate on 2000 samples\n",
      "Epoch 1/1\n",
      "16000/16000 [==============================] - 44s 3ms/step - loss: 19.2986 - val_loss: 21.3682\n",
      "EPOCH 82\n",
      "Train on 16000 samples, validate on 2000 samples\n",
      "Epoch 1/1\n",
      "16000/16000 [==============================] - 44s 3ms/step - loss: 19.2983 - val_loss: 21.3859\n",
      "EPOCH 83\n",
      "Train on 16000 samples, validate on 2000 samples\n",
      "Epoch 1/1\n",
      "16000/16000 [==============================] - 44s 3ms/step - loss: 19.2988 - val_loss: 21.3751\n",
      "EPOCH 84\n",
      "Train on 16000 samples, validate on 2000 samples\n",
      "Epoch 1/1\n",
      "16000/16000 [==============================] - 44s 3ms/step - loss: 19.2992 - val_loss: 21.3749\n",
      "EPOCH 85\n",
      "Train on 16000 samples, validate on 2000 samples\n",
      "Epoch 1/1\n",
      "16000/16000 [==============================] - 44s 3ms/step - loss: 19.2983 - val_loss: 21.3728\n"
     ]
    },
    {
     "data": {
      "image/png": "[encoded data removed]",
      "text/plain": [
       "<Figure size 432x288 with 2 Axes>"
      ]
     },
     "metadata": {
      "needs_background": "light"
     },
     "output_type": "display_data"
    },
    {
     "name": "stdout",
     "output_type": "stream",
     "text": [
      "EPOCH 86\n",
      "Train on 16000 samples, validate on 2000 samples\n",
      "Epoch 1/1\n",
      "16000/16000 [==============================] - 44s 3ms/step - loss: 19.2984 - val_loss: 21.3822\n",
      "EPOCH 87\n",
      "Train on 16000 samples, validate on 2000 samples\n",
      "Epoch 1/1\n",
      "16000/16000 [==============================] - 43s 3ms/step - loss: 19.2980 - val_loss: 21.3776\n",
      "EPOCH 88\n",
      "Train on 16000 samples, validate on 2000 samples\n",
      "Epoch 1/1\n",
      "16000/16000 [==============================] - 43s 3ms/step - loss: 19.2978 - val_loss: 21.3696\n",
      "EPOCH 89\n",
      "Train on 16000 samples, validate on 2000 samples\n",
      "Epoch 1/1\n",
      "16000/16000 [==============================] - 43s 3ms/step - loss: 19.2987 - val_loss: 21.3712\n",
      "EPOCH 90\n",
      "Train on 16000 samples, validate on 2000 samples\n",
      "Epoch 1/1\n",
      "16000/16000 [==============================] - 43s 3ms/step - loss: 19.2985 - val_loss: 21.3742\n"
     ]
    },
    {
     "data": {
      "image/png": "[encoded data removed]",
      "text/plain": [
       "<Figure size 432x288 with 2 Axes>"
      ]
     },
     "metadata": {
      "needs_background": "light"
     },
     "output_type": "display_data"
    },
    {
     "name": "stdout",
     "output_type": "stream",
     "text": [
      "EPOCH 91\n",
      "Train on 16000 samples, validate on 2000 samples\n",
      "Epoch 1/1\n",
      "16000/16000 [==============================] - 43s 3ms/step - loss: 19.2984 - val_loss: 21.3739\n",
      "EPOCH 92\n",
      "Train on 16000 samples, validate on 2000 samples\n",
      "Epoch 1/1\n",
      "16000/16000 [==============================] - 43s 3ms/step - loss: 19.2986 - val_loss: 21.3708\n",
      "EPOCH 93\n",
      "Train on 16000 samples, validate on 2000 samples\n",
      "Epoch 1/1\n",
      "16000/16000 [==============================] - 43s 3ms/step - loss: 19.2979 - val_loss: 21.3720\n",
      "EPOCH 94\n",
      "Train on 16000 samples, validate on 2000 samples\n",
      "Epoch 1/1\n",
      "16000/16000 [==============================] - 43s 3ms/step - loss: 19.2982 - val_loss: 21.3712\n",
      "EPOCH 95\n",
      "Train on 16000 samples, validate on 2000 samples\n",
      "Epoch 1/1\n",
      "16000/16000 [==============================] - 44s 3ms/step - loss: 19.2983 - val_loss: 21.3816\n"
     ]
    },
    {
     "data": {
      "image/png": "[encoded data removed]",
      "text/plain": [
       "<Figure size 432x288 with 2 Axes>"
      ]
     },
     "metadata": {
      "needs_background": "light"
     },
     "output_type": "display_data"
    },
    {
     "name": "stdout",
     "output_type": "stream",
     "text": [
      "EPOCH 96\n",
      "Train on 16000 samples, validate on 2000 samples\n",
      "Epoch 1/1\n",
      "16000/16000 [==============================] - 44s 3ms/step - loss: 19.2975 - val_loss: 21.3677\n",
      "EPOCH 97\n",
      "Train on 16000 samples, validate on 2000 samples\n",
      "Epoch 1/1\n",
      "16000/16000 [==============================] - 44s 3ms/step - loss: 19.2979 - val_loss: 21.3662\n",
      "EPOCH 98\n",
      "Train on 16000 samples, validate on 2000 samples\n",
      "Epoch 1/1\n",
      "16000/16000 [==============================] - 44s 3ms/step - loss: 19.2974 - val_loss: 21.3685\n",
      "EPOCH 99\n",
      "Train on 16000 samples, validate on 2000 samples\n",
      "Epoch 1/1\n",
      "16000/16000 [==============================] - 44s 3ms/step - loss: 19.2976 - val_loss: 21.3721\n",
      "EPOCH 100\n",
      "Train on 16000 samples, validate on 2000 samples\n",
      "Epoch 1/1\n",
      "16000/16000 [==============================] - 44s 3ms/step - loss: 19.2978 - val_loss: 21.3726\n"
     ]
    },
    {
     "data": {
      "image/png": "[encoded data removed]",
      "text/plain": [
       "<Figure size 432x288 with 2 Axes>"
      ]
     },
     "metadata": {
      "needs_background": "light"
     },
     "output_type": "display_data"
    },
    {
     "name": "stdout",
     "output_type": "stream",
     "text": [
      "EPOCH 101\n",
      "Train on 16000 samples, validate on 2000 samples\n",
      "Epoch 1/1\n",
      "16000/16000 [==============================] - 44s 3ms/step - loss: 19.2979 - val_loss: 21.3715\n",
      "EPOCH 102\n",
      "Train on 16000 samples, validate on 2000 samples\n",
      "Epoch 1/1\n",
      "16000/16000 [==============================] - 44s 3ms/step - loss: 19.2975 - val_loss: 21.3751\n",
      "EPOCH 103\n",
      "Train on 16000 samples, validate on 2000 samples\n",
      "Epoch 1/1\n",
      "16000/16000 [==============================] - 44s 3ms/step - loss: 19.2974 - val_loss: 21.3722\n",
      "EPOCH 104\n",
      "Train on 16000 samples, validate on 2000 samples\n",
      "Epoch 1/1\n",
      "16000/16000 [==============================] - 44s 3ms/step - loss: 19.2975 - val_loss: 21.3732\n",
      "EPOCH 105\n",
      "Train on 16000 samples, validate on 2000 samples\n",
      "Epoch 1/1\n",
      "16000/16000 [==============================] - 44s 3ms/step - loss: 19.2974 - val_loss: 21.3777\n"
     ]
    },
    {
     "data": {
      "image/png": "[encoded data removed]",
      "text/plain": [
       "<Figure size 432x288 with 2 Axes>"
      ]
     },
     "metadata": {
      "needs_background": "light"
     },
     "output_type": "display_data"
    },
    {
     "name": "stdout",
     "output_type": "stream",
     "text": [
      "EPOCH 106\n",
      "Train on 16000 samples, validate on 2000 samples\n",
      "Epoch 1/1\n",
      "16000/16000 [==============================] - 45s 3ms/step - loss: 19.2976 - val_loss: 21.3772\n",
      "EPOCH 107\n",
      "Train on 16000 samples, validate on 2000 samples\n",
      "Epoch 1/1\n",
      "16000/16000 [==============================] - 44s 3ms/step - loss: 19.2976 - val_loss: 21.3737\n",
      "EPOCH 108\n",
      "Train on 16000 samples, validate on 2000 samples\n",
      "Epoch 1/1\n",
      "16000/16000 [==============================] - 44s 3ms/step - loss: 19.2976 - val_loss: 21.3753\n",
      "EPOCH 109\n",
      "Train on 16000 samples, validate on 2000 samples\n",
      "Epoch 1/1\n",
      "16000/16000 [==============================] - 44s 3ms/step - loss: 19.2969 - val_loss: 21.3727\n",
      "EPOCH 110\n",
      "Train on 16000 samples, validate on 2000 samples\n",
      "Epoch 1/1\n",
      "16000/16000 [==============================] - 44s 3ms/step - loss: 19.2972 - val_loss: 21.3761\n"
     ]
    },
    {
     "data": {
      "image/png": "[encoded data removed]",
      "text/plain": [
       "<Figure size 432x288 with 2 Axes>"
      ]
     },
     "metadata": {
      "needs_background": "light"
     },
     "output_type": "display_data"
    },
    {
     "name": "stdout",
     "output_type": "stream",
     "text": [
      "EPOCH 111\n",
      "Train on 16000 samples, validate on 2000 samples\n",
      "Epoch 1/1\n",
      "16000/16000 [==============================] - 44s 3ms/step - loss: 19.2975 - val_loss: 21.3727\n",
      "EPOCH 112\n",
      "Train on 16000 samples, validate on 2000 samples\n",
      "Epoch 1/1\n",
      "16000/16000 [==============================] - 44s 3ms/step - loss: 19.2968 - val_loss: 21.3707\n",
      "EPOCH 113\n",
      "Train on 16000 samples, validate on 2000 samples\n",
      "Epoch 1/1\n",
      "16000/16000 [==============================] - 44s 3ms/step - loss: 19.2968 - val_loss: 21.3712\n",
      "EPOCH 114\n",
      "Train on 16000 samples, validate on 2000 samples\n",
      "Epoch 1/1\n",
      "16000/16000 [==============================] - 43s 3ms/step - loss: 19.2970 - val_loss: 21.3659\n",
      "EPOCH 115\n",
      "Train on 16000 samples, validate on 2000 samples\n",
      "Epoch 1/1\n",
      "16000/16000 [==============================] - 43s 3ms/step - loss: 19.2971 - val_loss: 21.3762\n"
     ]
    },
    {
     "data": {
      "image/png": "[encoded data removed]",
      "text/plain": [
       "<Figure size 432x288 with 2 Axes>"
      ]
     },
     "metadata": {
      "needs_background": "light"
     },
     "output_type": "display_data"
    },
    {
     "name": "stdout",
     "output_type": "stream",
     "text": [
      "EPOCH 116\n",
      "Train on 16000 samples, validate on 2000 samples\n",
      "Epoch 1/1\n",
      "16000/16000 [==============================] - 43s 3ms/step - loss: 19.2969 - val_loss: 21.3743\n",
      "EPOCH 117\n",
      "Train on 16000 samples, validate on 2000 samples\n",
      "Epoch 1/1\n",
      "16000/16000 [==============================] - 43s 3ms/step - loss: 19.2970 - val_loss: 21.3711\n",
      "EPOCH 118\n",
      "Train on 16000 samples, validate on 2000 samples\n",
      "Epoch 1/1\n",
      "16000/16000 [==============================] - 43s 3ms/step - loss: 19.2964 - val_loss: 21.3732\n",
      "EPOCH 119\n",
      "Train on 16000 samples, validate on 2000 samples\n",
      "Epoch 1/1\n",
      "16000/16000 [==============================] - 43s 3ms/step - loss: 19.2969 - val_loss: 21.3826\n",
      "EPOCH 120\n",
      "Train on 16000 samples, validate on 2000 samples\n",
      "Epoch 1/1\n",
      "16000/16000 [==============================] - 43s 3ms/step - loss: 19.2971 - val_loss: 21.3755\n"
     ]
    },
    {
     "data": {
      "image/png": "[encoded data removed]",
      "text/plain": [
       "<Figure size 432x288 with 2 Axes>"
      ]
     },
     "metadata": {
      "needs_background": "light"
     },
     "output_type": "display_data"
    },
    {
     "name": "stdout",
     "output_type": "stream",
     "text": [
      "EPOCH 121\n",
      "Train on 16000 samples, validate on 2000 samples\n",
      "Epoch 1/1\n",
      "16000/16000 [==============================] - 43s 3ms/step - loss: 19.2971 - val_loss: 21.3693\n",
      "EPOCH 122\n",
      "Train on 16000 samples, validate on 2000 samples\n",
      "Epoch 1/1\n",
      "16000/16000 [==============================] - 43s 3ms/step - loss: 19.2967 - val_loss: 21.3780\n",
      "EPOCH 123\n",
      "Train on 16000 samples, validate on 2000 samples\n",
      "Epoch 1/1\n",
      "16000/16000 [==============================] - 43s 3ms/step - loss: 19.2964 - val_loss: 21.3710\n",
      "EPOCH 124\n",
      "Train on 16000 samples, validate on 2000 samples\n",
      "Epoch 1/1\n",
      "16000/16000 [==============================] - 43s 3ms/step - loss: 19.2969 - val_loss: 21.3737\n",
      "EPOCH 125\n",
      "Train on 16000 samples, validate on 2000 samples\n",
      "Epoch 1/1\n",
      "16000/16000 [==============================] - 43s 3ms/step - loss: 19.2969 - val_loss: 21.3693\n"
     ]
    },
    {
     "data": {
      "image/png": "[encoded data removed]",
      "text/plain": [
       "<Figure size 432x288 with 2 Axes>"
      ]
     },
     "metadata": {
      "needs_background": "light"
     },
     "output_type": "display_data"
    },
    {
     "name": "stdout",
     "output_type": "stream",
     "text": [
      "EPOCH 126\n",
      "Train on 16000 samples, validate on 2000 samples\n",
      "Epoch 1/1\n",
      "16000/16000 [==============================] - 43s 3ms/step - loss: 19.2968 - val_loss: 21.3736\n",
      "EPOCH 127\n",
      "Train on 16000 samples, validate on 2000 samples\n",
      "Epoch 1/1\n",
      "16000/16000 [==============================] - 43s 3ms/step - loss: 19.2968 - val_loss: 21.3701\n",
      "EPOCH 128\n",
      "Train on 16000 samples, validate on 2000 samples\n",
      "Epoch 1/1\n",
      "16000/16000 [==============================] - 43s 3ms/step - loss: 19.2967 - val_loss: 21.3698\n",
      "EPOCH 129\n",
      "Train on 16000 samples, validate on 2000 samples\n",
      "Epoch 1/1\n",
      "16000/16000 [==============================] - 43s 3ms/step - loss: 19.2969 - val_loss: 21.3760\n",
      "EPOCH 130\n",
      "Train on 16000 samples, validate on 2000 samples\n",
      "Epoch 1/1\n",
      "16000/16000 [==============================] - 43s 3ms/step - loss: 19.2967 - val_loss: 21.3703\n"
     ]
    },
    {
     "data": {
      "image/png": "[encoded data removed]",
      "text/plain": [
       "<Figure size 432x288 with 2 Axes>"
      ]
     },
     "metadata": {
      "needs_background": "light"
     },
     "output_type": "display_data"
    },
    {
     "name": "stdout",
     "output_type": "stream",
     "text": [
      "EPOCH 131\n",
      "Train on 16000 samples, validate on 2000 samples\n",
      "Epoch 1/1\n",
      "16000/16000 [==============================] - 43s 3ms/step - loss: 19.2965 - val_loss: 21.3710\n",
      "EPOCH 132\n",
      "Train on 16000 samples, validate on 2000 samples\n",
      "Epoch 1/1\n",
      "16000/16000 [==============================] - 43s 3ms/step - loss: 19.2961 - val_loss: 21.3679\n",
      "EPOCH 133\n",
      "Train on 16000 samples, validate on 2000 samples\n",
      "Epoch 1/1\n",
      "16000/16000 [==============================] - 43s 3ms/step - loss: 19.2968 - val_loss: 21.3728\n",
      "EPOCH 134\n",
      "Train on 16000 samples, validate on 2000 samples\n",
      "Epoch 1/1\n",
      "16000/16000 [==============================] - 43s 3ms/step - loss: 19.2966 - val_loss: 21.3742\n",
      "EPOCH 135\n",
      "Train on 16000 samples, validate on 2000 samples\n",
      "Epoch 1/1\n",
      "16000/16000 [==============================] - 43s 3ms/step - loss: 19.2964 - val_loss: 21.3707\n"
     ]
    },
    {
     "data": {
      "image/png": "[encoded data removed]",
      "text/plain": [
       "<Figure size 432x288 with 2 Axes>"
      ]
     },
     "metadata": {
      "needs_background": "light"
     },
     "output_type": "display_data"
    },
    {
     "name": "stdout",
     "output_type": "stream",
     "text": [
      "EPOCH 136\n",
      "Train on 16000 samples, validate on 2000 samples\n",
      "Epoch 1/1\n",
      "16000/16000 [==============================] - 43s 3ms/step - loss: 19.2966 - val_loss: 21.3717\n",
      "EPOCH 137\n",
      "Train on 16000 samples, validate on 2000 samples\n",
      "Epoch 1/1\n",
      "16000/16000 [==============================] - 43s 3ms/step - loss: 19.2963 - val_loss: 21.3720\n",
      "EPOCH 138\n",
      "Train on 16000 samples, validate on 2000 samples\n",
      "Epoch 1/1\n",
      "16000/16000 [==============================] - 43s 3ms/step - loss: 19.2964 - val_loss: 21.3694\n",
      "EPOCH 139\n",
      "Train on 16000 samples, validate on 2000 samples\n",
      "Epoch 1/1\n",
      "16000/16000 [==============================] - 43s 3ms/step - loss: 19.2961 - val_loss: 21.3708\n",
      "EPOCH 140\n",
      "Train on 16000 samples, validate on 2000 samples\n",
      "Epoch 1/1\n",
      "16000/16000 [==============================] - 43s 3ms/step - loss: 19.2966 - val_loss: 21.3696\n"
     ]
    },
    {
     "data": {
      "image/png": "[encoded data removed]",
      "text/plain": [
       "<Figure size 432x288 with 2 Axes>"
      ]
     },
     "metadata": {
      "needs_background": "light"
     },
     "output_type": "display_data"
    },
    {
     "name": "stdout",
     "output_type": "stream",
     "text": [
      "EPOCH 141\n",
      "Train on 16000 samples, validate on 2000 samples\n",
      "Epoch 1/1\n",
      "16000/16000 [==============================] - 43s 3ms/step - loss: 19.2957 - val_loss: 21.3739\n",
      "EPOCH 142\n",
      "Train on 16000 samples, validate on 2000 samples\n",
      "Epoch 1/1\n",
      "16000/16000 [==============================] - 43s 3ms/step - loss: 19.2961 - val_loss: 21.3687\n",
      "EPOCH 143\n",
      "Train on 16000 samples, validate on 2000 samples\n",
      "Epoch 1/1\n",
      "16000/16000 [==============================] - 44s 3ms/step - loss: 19.2960 - val_loss: 21.3694\n",
      "EPOCH 144\n",
      "Train on 16000 samples, validate on 2000 samples\n",
      "Epoch 1/1\n",
      "16000/16000 [==============================] - 44s 3ms/step - loss: 19.2964 - val_loss: 21.3820\n",
      "EPOCH 145\n",
      "Train on 16000 samples, validate on 2000 samples\n",
      "Epoch 1/1\n",
      "16000/16000 [==============================] - 43s 3ms/step - loss: 19.2967 - val_loss: 21.3688\n"
     ]
    },
    {
     "data": {
      "image/png": "[encoded data removed]",
      "text/plain": [
       "<Figure size 432x288 with 2 Axes>"
      ]
     },
     "metadata": {
      "needs_background": "light"
     },
     "output_type": "display_data"
    },
    {
     "name": "stdout",
     "output_type": "stream",
     "text": [
      "EPOCH 146\n",
      "Train on 16000 samples, validate on 2000 samples\n",
      "Epoch 1/1\n",
      "16000/16000 [==============================] - 43s 3ms/step - loss: 19.2960 - val_loss: 21.3717\n",
      "EPOCH 147\n",
      "Train on 16000 samples, validate on 2000 samples\n",
      "Epoch 1/1\n",
      "16000/16000 [==============================] - 43s 3ms/step - loss: 19.2957 - val_loss: 21.3761\n",
      "EPOCH 148\n",
      "Train on 16000 samples, validate on 2000 samples\n",
      "Epoch 1/1\n",
      "16000/16000 [==============================] - 43s 3ms/step - loss: 19.2962 - val_loss: 21.3792\n",
      "EPOCH 149\n",
      "Train on 16000 samples, validate on 2000 samples\n",
      "Epoch 1/1\n",
      "16000/16000 [==============================] - 44s 3ms/step - loss: 19.2960 - val_loss: 21.3685\n",
      "EPOCH 150\n",
      "Train on 16000 samples, validate on 2000 samples\n",
      "Epoch 1/1\n",
      "16000/16000 [==============================] - 43s 3ms/step - loss: 19.2964 - val_loss: 21.3691\n"
     ]
    },
    {
     "data": {
      "image/png": "[encoded data removed]",
      "text/plain": [
       "<Figure size 432x288 with 2 Axes>"
      ]
     },
     "metadata": {
      "needs_background": "light"
     },
     "output_type": "display_data"
    },
    {
     "name": "stdout",
     "output_type": "stream",
     "text": [
      "EPOCH 151\n",
      "Train on 16000 samples, validate on 2000 samples\n",
      "Epoch 1/1\n",
      "16000/16000 [==============================] - 43s 3ms/step - loss: 19.2959 - val_loss: 21.3702\n",
      "EPOCH 152\n",
      "Train on 16000 samples, validate on 2000 samples\n",
      "Epoch 1/1\n",
      "12096/16000 [=====================>........] - ETA: 11s - loss: 19.3012"
     ]
    },
    {
     "ename": "KeyboardInterrupt",
     "evalue": "",
     "output_type": "error",
     "traceback": [
      "\u001b[0;31m---------------------------------------------------------------------------\u001b[0m",
      "\u001b[0;31mKeyboardInterrupt\u001b[0m                         Traceback (most recent call last)",
      "\u001b[0;32m<ipython-input-12-8a8cb092da37>\u001b[0m in \u001b[0;36m<module>\u001b[0;34m\u001b[0m\n\u001b[1;32m      8\u001b[0m                      \u001b[0mepochs\u001b[0m\u001b[0;34m=\u001b[0m\u001b[0;36m1\u001b[0m\u001b[0;34m,\u001b[0m\u001b[0;34m\u001b[0m\u001b[0;34m\u001b[0m\u001b[0m\n\u001b[1;32m      9\u001b[0m                      \u001b[0mbatch_size\u001b[0m\u001b[0;34m=\u001b[0m\u001b[0;36m32\u001b[0m\u001b[0;34m,\u001b[0m\u001b[0;34m\u001b[0m\u001b[0;34m\u001b[0m\u001b[0m\n\u001b[0;32m---> 10\u001b[0;31m                      shuffle=True)\n\u001b[0m\u001b[1;32m     11\u001b[0m     \u001b[0mhistory\u001b[0m\u001b[0;34m[\u001b[0m\u001b[0;34m\"loss\"\u001b[0m\u001b[0;34m]\u001b[0m\u001b[0;34m.\u001b[0m\u001b[0mappend\u001b[0m\u001b[0;34m(\u001b[0m\u001b[0mhist\u001b[0m\u001b[0;34m.\u001b[0m\u001b[0mhistory\u001b[0m\u001b[0;34m[\u001b[0m\u001b[0;34m\"loss\"\u001b[0m\u001b[0;34m]\u001b[0m\u001b[0;34m[\u001b[0m\u001b[0;36m0\u001b[0m\u001b[0;34m]\u001b[0m\u001b[0;34m)\u001b[0m\u001b[0;34m\u001b[0m\u001b[0;34m\u001b[0m\u001b[0m\n\u001b[1;32m     12\u001b[0m     \u001b[0mhistory\u001b[0m\u001b[0;34m[\u001b[0m\u001b[0;34m\"val_loss\"\u001b[0m\u001b[0;34m]\u001b[0m\u001b[0;34m.\u001b[0m\u001b[0mappend\u001b[0m\u001b[0;34m(\u001b[0m\u001b[0mhist\u001b[0m\u001b[0;34m.\u001b[0m\u001b[0mhistory\u001b[0m\u001b[0;34m[\u001b[0m\u001b[0;34m\"val_loss\"\u001b[0m\u001b[0;34m]\u001b[0m\u001b[0;34m[\u001b[0m\u001b[0;36m0\u001b[0m\u001b[0;34m]\u001b[0m\u001b[0;34m)\u001b[0m\u001b[0;34m\u001b[0m\u001b[0;34m\u001b[0m\u001b[0m\n",
      "\u001b[0;32m~/TrackIt/src/cnn_vae.py\u001b[0m in \u001b[0;36mtrain\u001b[0;34m(self, X_train, Y_train, X_val, Y_val, epochs, batch_size, shuffle)\u001b[0m\n\u001b[1;32m    119\u001b[0m                     \u001b[0mbatch_size\u001b[0m\u001b[0;34m=\u001b[0m\u001b[0mbatch_size\u001b[0m\u001b[0;34m,\u001b[0m\u001b[0;34m\u001b[0m\u001b[0;34m\u001b[0m\u001b[0m\n\u001b[1;32m    120\u001b[0m                     \u001b[0mshuffle\u001b[0m\u001b[0;34m=\u001b[0m\u001b[0mshuffle\u001b[0m\u001b[0;34m,\u001b[0m\u001b[0;34m\u001b[0m\u001b[0;34m\u001b[0m\u001b[0m\n\u001b[0;32m--> 121\u001b[0;31m                     \u001b[0mvalidation_data\u001b[0m\u001b[0;34m=\u001b[0m\u001b[0;34m(\u001b[0m\u001b[0mX_val\u001b[0m\u001b[0;34m,\u001b[0m \u001b[0mY_val\u001b[0m\u001b[0;34m)\u001b[0m\u001b[0;34m\u001b[0m\u001b[0;34m\u001b[0m\u001b[0m\n\u001b[0m\u001b[1;32m    122\u001b[0m                     \u001b[0;31m# callbacks=[self.status_callback, self.checkpoint]\u001b[0m\u001b[0;34m\u001b[0m\u001b[0;34m\u001b[0m\u001b[0;34m\u001b[0m\u001b[0m\n\u001b[1;32m    123\u001b[0m                 )\n",
      "\u001b[0;32m~/anaconda3/envs/envTF113/lib/python3.6/site-packages/keras/engine/training.py\u001b[0m in \u001b[0;36mfit\u001b[0;34m(self, x, y, batch_size, epochs, verbose, callbacks, validation_split, validation_data, shuffle, class_weight, sample_weight, initial_epoch, steps_per_epoch, validation_steps, validation_freq, max_queue_size, workers, use_multiprocessing, **kwargs)\u001b[0m\n\u001b[1;32m   1237\u001b[0m                                         \u001b[0msteps_per_epoch\u001b[0m\u001b[0;34m=\u001b[0m\u001b[0msteps_per_epoch\u001b[0m\u001b[0;34m,\u001b[0m\u001b[0;34m\u001b[0m\u001b[0;34m\u001b[0m\u001b[0m\n\u001b[1;32m   1238\u001b[0m                                         \u001b[0mvalidation_steps\u001b[0m\u001b[0;34m=\u001b[0m\u001b[0mvalidation_steps\u001b[0m\u001b[0;34m,\u001b[0m\u001b[0;34m\u001b[0m\u001b[0;34m\u001b[0m\u001b[0m\n\u001b[0;32m-> 1239\u001b[0;31m                                         validation_freq=validation_freq)\n\u001b[0m\u001b[1;32m   1240\u001b[0m \u001b[0;34m\u001b[0m\u001b[0m\n\u001b[1;32m   1241\u001b[0m     def evaluate(self,\n",
      "\u001b[0;32m~/anaconda3/envs/envTF113/lib/python3.6/site-packages/keras/engine/training_arrays.py\u001b[0m in \u001b[0;36mfit_loop\u001b[0;34m(model, fit_function, fit_inputs, out_labels, batch_size, epochs, verbose, callbacks, val_function, val_inputs, shuffle, initial_epoch, steps_per_epoch, validation_steps, validation_freq)\u001b[0m\n\u001b[1;32m    194\u001b[0m                     \u001b[0mins_batch\u001b[0m\u001b[0;34m[\u001b[0m\u001b[0mi\u001b[0m\u001b[0;34m]\u001b[0m \u001b[0;34m=\u001b[0m \u001b[0mins_batch\u001b[0m\u001b[0;34m[\u001b[0m\u001b[0mi\u001b[0m\u001b[0;34m]\u001b[0m\u001b[0;34m.\u001b[0m\u001b[0mtoarray\u001b[0m\u001b[0;34m(\u001b[0m\u001b[0;34m)\u001b[0m\u001b[0;34m\u001b[0m\u001b[0;34m\u001b[0m\u001b[0m\n\u001b[1;32m    195\u001b[0m \u001b[0;34m\u001b[0m\u001b[0m\n\u001b[0;32m--> 196\u001b[0;31m                 \u001b[0mouts\u001b[0m \u001b[0;34m=\u001b[0m \u001b[0mfit_function\u001b[0m\u001b[0;34m(\u001b[0m\u001b[0mins_batch\u001b[0m\u001b[0;34m)\u001b[0m\u001b[0;34m\u001b[0m\u001b[0;34m\u001b[0m\u001b[0m\n\u001b[0m\u001b[1;32m    197\u001b[0m                 \u001b[0mouts\u001b[0m \u001b[0;34m=\u001b[0m \u001b[0mto_list\u001b[0m\u001b[0;34m(\u001b[0m\u001b[0mouts\u001b[0m\u001b[0;34m)\u001b[0m\u001b[0;34m\u001b[0m\u001b[0;34m\u001b[0m\u001b[0m\n\u001b[1;32m    198\u001b[0m                 \u001b[0;32mfor\u001b[0m \u001b[0ml\u001b[0m\u001b[0;34m,\u001b[0m \u001b[0mo\u001b[0m \u001b[0;32min\u001b[0m \u001b[0mzip\u001b[0m\u001b[0;34m(\u001b[0m\u001b[0mout_labels\u001b[0m\u001b[0;34m,\u001b[0m \u001b[0mouts\u001b[0m\u001b[0;34m)\u001b[0m\u001b[0;34m:\u001b[0m\u001b[0;34m\u001b[0m\u001b[0;34m\u001b[0m\u001b[0m\n",
      "\u001b[0;32m~/anaconda3/envs/envTF113/lib/python3.6/site-packages/tensorflow/python/keras/backend.py\u001b[0m in \u001b[0;36m__call__\u001b[0;34m(self, inputs)\u001b[0m\n\u001b[1;32m   3074\u001b[0m \u001b[0;34m\u001b[0m\u001b[0m\n\u001b[1;32m   3075\u001b[0m     fetched = self._callable_fn(*array_vals,\n\u001b[0;32m-> 3076\u001b[0;31m                                 run_metadata=self.run_metadata)\n\u001b[0m\u001b[1;32m   3077\u001b[0m     \u001b[0mself\u001b[0m\u001b[0;34m.\u001b[0m\u001b[0m_call_fetch_callbacks\u001b[0m\u001b[0;34m(\u001b[0m\u001b[0mfetched\u001b[0m\u001b[0;34m[\u001b[0m\u001b[0;34m-\u001b[0m\u001b[0mlen\u001b[0m\u001b[0;34m(\u001b[0m\u001b[0mself\u001b[0m\u001b[0;34m.\u001b[0m\u001b[0m_fetches\u001b[0m\u001b[0;34m)\u001b[0m\u001b[0;34m:\u001b[0m\u001b[0;34m]\u001b[0m\u001b[0;34m)\u001b[0m\u001b[0;34m\u001b[0m\u001b[0;34m\u001b[0m\u001b[0m\n\u001b[1;32m   3078\u001b[0m     return nest.pack_sequence_as(self._outputs_structure,\n",
      "\u001b[0;32m~/anaconda3/envs/envTF113/lib/python3.6/site-packages/tensorflow/python/client/session.py\u001b[0m in \u001b[0;36m__call__\u001b[0;34m(self, *args, **kwargs)\u001b[0m\n\u001b[1;32m   1437\u001b[0m           ret = tf_session.TF_SessionRunCallable(\n\u001b[1;32m   1438\u001b[0m               \u001b[0mself\u001b[0m\u001b[0;34m.\u001b[0m\u001b[0m_session\u001b[0m\u001b[0;34m.\u001b[0m\u001b[0m_session\u001b[0m\u001b[0;34m,\u001b[0m \u001b[0mself\u001b[0m\u001b[0;34m.\u001b[0m\u001b[0m_handle\u001b[0m\u001b[0;34m,\u001b[0m \u001b[0margs\u001b[0m\u001b[0;34m,\u001b[0m \u001b[0mstatus\u001b[0m\u001b[0;34m,\u001b[0m\u001b[0;34m\u001b[0m\u001b[0;34m\u001b[0m\u001b[0m\n\u001b[0;32m-> 1439\u001b[0;31m               run_metadata_ptr)\n\u001b[0m\u001b[1;32m   1440\u001b[0m         \u001b[0;32mif\u001b[0m \u001b[0mrun_metadata\u001b[0m\u001b[0;34m:\u001b[0m\u001b[0;34m\u001b[0m\u001b[0;34m\u001b[0m\u001b[0m\n\u001b[1;32m   1441\u001b[0m           \u001b[0mproto_data\u001b[0m \u001b[0;34m=\u001b[0m \u001b[0mtf_session\u001b[0m\u001b[0;34m.\u001b[0m\u001b[0mTF_GetBuffer\u001b[0m\u001b[0;34m(\u001b[0m\u001b[0mrun_metadata_ptr\u001b[0m\u001b[0;34m)\u001b[0m\u001b[0;34m\u001b[0m\u001b[0;34m\u001b[0m\u001b[0m\n",
      "\u001b[0;31mKeyboardInterrupt\u001b[0m: "
     ]
    }
   ],
   "source": [
    "# TRAIN LOOP\n",
    "for epoch in range(1000):\n",
    "    print('EPOCH %d' % (epoch))\n",
    "    hist  = ae.train(X_train=cnn_data_loader.X_train, \n",
    "                     Y_train=cnn_data_loader.X_train, \n",
    "                     X_val=cnn_data_loader.X_val, \n",
    "                     Y_val=cnn_data_loader.X_val, \n",
    "                     epochs=1, \n",
    "                     batch_size=32, \n",
    "                     shuffle=True)\n",
    "    history[\"loss\"].append(hist.history[\"loss\"][0])\n",
    "    history[\"val_loss\"].append(hist.history[\"val_loss\"][0])\n",
    "    if epoch % 5 == 0:\n",
    "        i = random.randint(0, cnn_data_loader.X_train.shape[0]-1)\n",
    "        x = cnn_data_loader.X_train[i:i+1]\n",
    "        y = ae.autoencoder.predict(x)\n",
    "        show_reconstruction(x[0], y[0])\n",
    "    ae.save_weights(root+\"/../models/autoencoder_vae_32_v1.h5\")"
   ]
  },
  {
   "cell_type": "code",
   "execution_count": null,
   "metadata": {},
   "outputs": [],
   "source": [
    "# Plot training & validation loss values\n",
    "plt.plot(history['loss'])\n",
    "plt.plot(history['val_loss'])\n",
    "plt.title('Model loss')\n",
    "plt.ylabel('Loss')\n",
    "plt.xlabel('Epoch')\n",
    "plt.legend(['Train', 'Validation'], loc='upper left')\n",
    "plt.show()"
   ]
  }
 ],
 "metadata": {
  "file_extension": ".py",
  "kernelspec": {
   "display_name": "Python 3",
   "language": "python",
   "name": "python3"
  },
  "language_info": {
   "codemirror_mode": {
    "name": "ipython",
    "version": 3
   },
   "file_extension": ".py",
   "mimetype": "text/x-python",
   "name": "python",
   "nbconvert_exporter": "python",
   "pygments_lexer": "ipython3",
   "version": "3.7.3"
  },
  "mimetype": "text/x-python",
  "name": "python",
  "npconvert_exporter": "python",
  "pygments_lexer": "ipython3",
  "version": 3
 },
 "nbformat": 4,
 "nbformat_minor": 2
}
