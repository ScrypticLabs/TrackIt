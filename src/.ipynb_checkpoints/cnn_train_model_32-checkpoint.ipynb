{
 "cells": [
  {
   "cell_type": "code",
   "execution_count": 1,
   "metadata": {},
   "outputs": [],
   "source": [
    "# THIS NOTEBOOK TRAINS THE CNN AUTOENCODER WITH THE 32by23 RESOLUTION DATASET"
   ]
  },
  {
   "cell_type": "code",
   "execution_count": 2,
   "metadata": {},
   "outputs": [],
   "source": [
    "%load_ext autoreload\n",
    "%autoreload 2"
   ]
  },
  {
   "cell_type": "code",
   "execution_count": 3,
   "metadata": {},
   "outputs": [
    {
     "name": "stderr",
     "output_type": "stream",
     "text": [
      "Using TensorFlow backend.\n",
      "/home/abhi/anaconda3/envs/envTF113/lib/python3.6/site-packages/tensorflow/python/framework/dtypes.py:526: FutureWarning: Passing (type, 1) or '1type' as a synonym of type is deprecated; in a future version of numpy, it will be understood as (type, (1,)) / '(1,)type'.\n",
      "  _np_qint8 = np.dtype([(\"qint8\", np.int8, 1)])\n",
      "/home/abhi/anaconda3/envs/envTF113/lib/python3.6/site-packages/tensorflow/python/framework/dtypes.py:527: FutureWarning: Passing (type, 1) or '1type' as a synonym of type is deprecated; in a future version of numpy, it will be understood as (type, (1,)) / '(1,)type'.\n",
      "  _np_quint8 = np.dtype([(\"quint8\", np.uint8, 1)])\n",
      "/home/abhi/anaconda3/envs/envTF113/lib/python3.6/site-packages/tensorflow/python/framework/dtypes.py:528: FutureWarning: Passing (type, 1) or '1type' as a synonym of type is deprecated; in a future version of numpy, it will be understood as (type, (1,)) / '(1,)type'.\n",
      "  _np_qint16 = np.dtype([(\"qint16\", np.int16, 1)])\n",
      "/home/abhi/anaconda3/envs/envTF113/lib/python3.6/site-packages/tensorflow/python/framework/dtypes.py:529: FutureWarning: Passing (type, 1) or '1type' as a synonym of type is deprecated; in a future version of numpy, it will be understood as (type, (1,)) / '(1,)type'.\n",
      "  _np_quint16 = np.dtype([(\"quint16\", np.uint16, 1)])\n",
      "/home/abhi/anaconda3/envs/envTF113/lib/python3.6/site-packages/tensorflow/python/framework/dtypes.py:530: FutureWarning: Passing (type, 1) or '1type' as a synonym of type is deprecated; in a future version of numpy, it will be understood as (type, (1,)) / '(1,)type'.\n",
      "  _np_qint32 = np.dtype([(\"qint32\", np.int32, 1)])\n",
      "/home/abhi/anaconda3/envs/envTF113/lib/python3.6/site-packages/tensorflow/python/framework/dtypes.py:535: FutureWarning: Passing (type, 1) or '1type' as a synonym of type is deprecated; in a future version of numpy, it will be understood as (type, (1,)) / '(1,)type'.\n",
      "  np_resource = np.dtype([(\"resource\", np.ubyte, 1)])\n"
     ]
    }
   ],
   "source": [
    "import os\n",
    "import numpy as np\n",
    "from data_loader import DataLoader\n",
    "from utils.visualize import show_images_in_grid, show_reconstruction, show_reconstructions\n",
    "from cnn import Autoencoder\n",
    "import random\n",
    "import matplotlib.pyplot as plt"
   ]
  },
  {
   "cell_type": "code",
   "execution_count": 4,
   "metadata": {},
   "outputs": [],
   "source": [
    "root = os.getcwd()"
   ]
  },
  {
   "cell_type": "code",
   "execution_count": 5,
   "metadata": {},
   "outputs": [],
   "source": [
    "cnn_data_loader = DataLoader()"
   ]
  },
  {
   "cell_type": "code",
   "execution_count": 6,
   "metadata": {},
   "outputs": [],
   "source": [
    "cnn_data_loader.X_train = np.reshape(np.load(root+\"/../datasets/train/32/X_train_normalized.npy\"), (-1, 32, 32, 3))\n",
    "cnn_data_loader.Y_train = np.reshape(np.load(root+\"/../datasets/train/32/Y_train_normalized.npy\"), (-1, 32, 32, 3))\n",
    "cnn_data_loader.X_val = np.reshape(np.load(root+\"/../datasets/val/32/X_val_normalized.npy\"), (-1, 32, 32, 3))\n",
    "cnn_data_loader.Y_val = np.reshape(np.load(root+\"/../datasets/val/32/Y_val_normalized.npy\"), (-1, 32, 32, 3))\n",
    "cnn_data_loader.X_test = np.reshape(np.load(root+\"/../datasets/test/32/X_test_normalized.npy\"), (-1, 32, 32, 3))\n",
    "cnn_data_loader.Y_test = np.reshape(np.load(root+\"/../datasets/test/32/Y_test_normalized.npy\"), (-1, 32, 32, 3))"
   ]
  },
  {
   "cell_type": "code",
   "execution_count": 7,
   "metadata": {},
   "outputs": [
    {
     "data": {
      "text/plain": [
       "((16000, 32, 32, 3), (2000, 32, 32, 3), (2000, 32, 32, 3))"
      ]
     },
     "execution_count": 7,
     "metadata": {},
     "output_type": "execute_result"
    }
   ],
   "source": [
    "cnn_data_loader.X_train.shape, cnn_data_loader.X_val.shape, cnn_data_loader.X_test.shape"
   ]
  },
  {
   "cell_type": "code",
   "execution_count": 8,
   "metadata": {},
   "outputs": [
    {
     "name": "stdout",
     "output_type": "stream",
     "text": [
      "WARNING:tensorflow:From /home/abhi/anaconda3/envs/envTF113/lib/python3.6/site-packages/tensorflow/python/ops/resource_variable_ops.py:435: colocate_with (from tensorflow.python.framework.ops) is deprecated and will be removed in a future version.\n",
      "Instructions for updating:\n",
      "Colocations handled automatically by placer.\n"
     ]
    }
   ],
   "source": [
    "ae = Autoencoder()\n",
    "ae.build_model(input_dim=(32, 32, 3), latent_dim=(64,))\n",
    "# ae.set_weights(root+\"/../models/autoencoder_32.h5\")"
   ]
  },
  {
   "cell_type": "code",
   "execution_count": 9,
   "metadata": {},
   "outputs": [
    {
     "name": "stdout",
     "output_type": "stream",
     "text": [
      "Model: \"model_2\"\n",
      "_________________________________________________________________\n",
      "Layer (type)                 Output Shape              Param #   \n",
      "=================================================================\n",
      "input_2 (InputLayer)         (None, 32, 32, 3)         0         \n",
      "_________________________________________________________________\n",
      "conv2d_1 (Conv2D)            (None, 16, 16, 64)        3136      \n",
      "_________________________________________________________________\n",
      "conv2d_2 (Conv2D)            (None, 8, 8, 64)          65600     \n",
      "_________________________________________________________________\n",
      "conv2d_3 (Conv2D)            (None, 8, 8, 64)          65600     \n",
      "_________________________________________________________________\n",
      "flatten_1 (Flatten)          (None, 4096)              0         \n",
      "_________________________________________________________________\n",
      "dense_1 (Dense)              (None, 64)                262208    \n",
      "=================================================================\n",
      "Total params: 396,544\n",
      "Trainable params: 396,544\n",
      "Non-trainable params: 0\n",
      "_________________________________________________________________\n"
     ]
    }
   ],
   "source": [
    "ae.encoder.summary()"
   ]
  },
  {
   "cell_type": "code",
   "execution_count": 10,
   "metadata": {},
   "outputs": [
    {
     "name": "stdout",
     "output_type": "stream",
     "text": [
      "Model: \"model_3\"\n",
      "_________________________________________________________________\n",
      "Layer (type)                 Output Shape              Param #   \n",
      "=================================================================\n",
      "input_3 (InputLayer)         (None, 64)                0         \n",
      "_________________________________________________________________\n",
      "dense_2 (Dense)              (None, 192)               12480     \n",
      "_________________________________________________________________\n",
      "reshape_1 (Reshape)          (None, 8, 8, 3)           0         \n",
      "_________________________________________________________________\n",
      "conv2d_transpose_1 (Conv2DTr (None, 16, 16, 64)        3136      \n",
      "_________________________________________________________________\n",
      "conv2d_transpose_2 (Conv2DTr (None, 32, 32, 64)        65600     \n",
      "_________________________________________________________________\n",
      "conv2d_transpose_3 (Conv2DTr (None, 32, 32, 64)        65600     \n",
      "_________________________________________________________________\n",
      "flatten_2 (Flatten)          (None, 65536)             0         \n",
      "_________________________________________________________________\n",
      "dense_3 (Dense)              (None, 3072)              201329664 \n",
      "_________________________________________________________________\n",
      "reshape_2 (Reshape)          (None, 32, 32, 3)         0         \n",
      "=================================================================\n",
      "Total params: 201,476,480\n",
      "Trainable params: 201,476,480\n",
      "Non-trainable params: 0\n",
      "_________________________________________________________________\n"
     ]
    }
   ],
   "source": [
    "ae.decoder.summary()"
   ]
  },
  {
   "cell_type": "code",
   "execution_count": 12,
   "metadata": {},
   "outputs": [],
   "source": [
    "history = {\n",
    "    \"loss\" : [],\n",
    "    \"val_loss\" : []\n",
    "} "
   ]
  },
  {
   "cell_type": "code",
   "execution_count": 24,
   "metadata": {},
   "outputs": [
    {
     "name": "stdout",
     "output_type": "stream",
     "text": [
      "EPOCH 0\n",
      "Train on 20000 samples, validate on 2000 samples\n",
      "Epoch 1/1\n",
      "20000/20000 [==============================] - 54s 3ms/step - loss: 1.3938 - val_loss: 2.5671\n"
     ]
    },
    {
     "data": {
      "image/png": "[encoded data removed]",
      "text/plain": [
       "<Figure size 432x288 with 2 Axes>"
      ]
     },
     "metadata": {
      "needs_background": "light"
     },
     "output_type": "display_data"
    },
    {
     "name": "stdout",
     "output_type": "stream",
     "text": [
      "EPOCH 1\n",
      "Train on 20000 samples, validate on 2000 samples\n",
      "Epoch 1/1\n",
      "20000/20000 [==============================] - 54s 3ms/step - loss: 0.8929 - val_loss: 1.4752\n",
      "EPOCH 2\n",
      "Train on 20000 samples, validate on 2000 samples\n",
      "Epoch 1/1\n",
      "20000/20000 [==============================] - 54s 3ms/step - loss: 0.7142 - val_loss: 1.0585\n",
      "EPOCH 3\n",
      "Train on 20000 samples, validate on 2000 samples\n",
      "Epoch 1/1\n",
      "20000/20000 [==============================] - 54s 3ms/step - loss: 0.6299 - val_loss: 0.8533\n",
      "EPOCH 4\n",
      "Train on 20000 samples, validate on 2000 samples\n",
      "Epoch 1/1\n",
      "20000/20000 [==============================] - 54s 3ms/step - loss: 0.5776 - val_loss: 0.7327\n",
      "EPOCH 5\n",
      "Train on 20000 samples, validate on 2000 samples\n",
      "Epoch 1/1\n",
      "20000/20000 [==============================] - 54s 3ms/step - loss: 0.5318 - val_loss: 0.6404\n"
     ]
    },
    {
     "data": {
      "image/png": "[encoded data removed]",
      "text/plain": [
       "<Figure size 432x288 with 2 Axes>"
      ]
     },
     "metadata": {
      "needs_background": "light"
     },
     "output_type": "display_data"
    },
    {
     "name": "stdout",
     "output_type": "stream",
     "text": [
      "EPOCH 6\n",
      "Train on 20000 samples, validate on 2000 samples\n",
      "Epoch 1/1\n",
      "20000/20000 [==============================] - 54s 3ms/step - loss: 0.4929 - val_loss: 0.5677\n",
      "EPOCH 7\n",
      "Train on 20000 samples, validate on 2000 samples\n",
      "Epoch 1/1\n",
      "20000/20000 [==============================] - 54s 3ms/step - loss: 0.4582 - val_loss: 0.5064\n",
      "EPOCH 8\n",
      "Train on 20000 samples, validate on 2000 samples\n",
      "Epoch 1/1\n",
      "20000/20000 [==============================] - 54s 3ms/step - loss: 0.4374 - val_loss: 0.4792\n",
      "EPOCH 9\n",
      "Train on 20000 samples, validate on 2000 samples\n",
      "Epoch 1/1\n",
      "20000/20000 [==============================] - 54s 3ms/step - loss: 0.4095 - val_loss: 0.4504\n",
      "EPOCH 10\n",
      "Train on 20000 samples, validate on 2000 samples\n",
      "Epoch 1/1\n",
      "20000/20000 [==============================] - 54s 3ms/step - loss: 0.3816 - val_loss: 0.3985\n"
     ]
    },
    {
     "data": {
      "image/png": "[encoded data removed]",
      "text/plain": [
       "<Figure size 432x288 with 2 Axes>"
      ]
     },
     "metadata": {
      "needs_background": "light"
     },
     "output_type": "display_data"
    },
    {
     "name": "stdout",
     "output_type": "stream",
     "text": [
      "EPOCH 11\n",
      "Train on 20000 samples, validate on 2000 samples\n",
      "Epoch 1/1\n",
      "20000/20000 [==============================] - 54s 3ms/step - loss: 0.3656 - val_loss: 0.3698\n",
      "EPOCH 12\n",
      "Train on 20000 samples, validate on 2000 samples\n",
      "Epoch 1/1\n",
      "20000/20000 [==============================] - 54s 3ms/step - loss: 0.3503 - val_loss: 0.3549\n",
      "EPOCH 13\n",
      "Train on 20000 samples, validate on 2000 samples\n",
      "Epoch 1/1\n",
      "20000/20000 [==============================] - 54s 3ms/step - loss: 0.3322 - val_loss: 0.3694\n",
      "EPOCH 14\n",
      "Train on 20000 samples, validate on 2000 samples\n",
      "Epoch 1/1\n",
      "20000/20000 [==============================] - 54s 3ms/step - loss: 0.3183 - val_loss: 0.3138\n",
      "EPOCH 15\n",
      "Train on 20000 samples, validate on 2000 samples\n",
      "Epoch 1/1\n",
      "20000/20000 [==============================] - 54s 3ms/step - loss: 0.3045 - val_loss: 0.2990\n"
     ]
    },
    {
     "data": {
      "image/png": "[encoded data removed]",
      "text/plain": [
       "<Figure size 432x288 with 2 Axes>"
      ]
     },
     "metadata": {
      "needs_background": "light"
     },
     "output_type": "display_data"
    },
    {
     "name": "stdout",
     "output_type": "stream",
     "text": [
      "EPOCH 16\n",
      "Train on 20000 samples, validate on 2000 samples\n",
      "Epoch 1/1\n",
      "20000/20000 [==============================] - 54s 3ms/step - loss: 0.2948 - val_loss: 0.2841\n",
      "EPOCH 17\n",
      "Train on 20000 samples, validate on 2000 samples\n",
      "Epoch 1/1\n",
      "20000/20000 [==============================] - 54s 3ms/step - loss: 0.2846 - val_loss: 0.2721\n",
      "EPOCH 18\n",
      "Train on 20000 samples, validate on 2000 samples\n",
      "Epoch 1/1\n",
      "20000/20000 [==============================] - 54s 3ms/step - loss: 0.2703 - val_loss: 0.2561\n",
      "EPOCH 19\n",
      "Train on 20000 samples, validate on 2000 samples\n",
      "Epoch 1/1\n",
      "20000/20000 [==============================] - 54s 3ms/step - loss: 0.2628 - val_loss: 0.2486\n",
      "EPOCH 20\n",
      "Train on 20000 samples, validate on 2000 samples\n",
      "Epoch 1/1\n",
      "20000/20000 [==============================] - 54s 3ms/step - loss: 0.2559 - val_loss: 0.2532\n"
     ]
    },
    {
     "data": {
      "image/png": "[encoded data removed]",
      "text/plain": [
       "<Figure size 432x288 with 2 Axes>"
      ]
     },
     "metadata": {
      "needs_background": "light"
     },
     "output_type": "display_data"
    },
    {
     "name": "stdout",
     "output_type": "stream",
     "text": [
      "EPOCH 21\n",
      "Train on 20000 samples, validate on 2000 samples\n",
      "Epoch 1/1\n",
      "20000/20000 [==============================] - 54s 3ms/step - loss: 0.2525 - val_loss: 0.2454\n",
      "EPOCH 22\n",
      "Train on 20000 samples, validate on 2000 samples\n",
      "Epoch 1/1\n",
      "20000/20000 [==============================] - 54s 3ms/step - loss: 0.2417 - val_loss: 0.2254\n",
      "EPOCH 23\n",
      "Train on 20000 samples, validate on 2000 samples\n",
      "Epoch 1/1\n",
      "20000/20000 [==============================] - 54s 3ms/step - loss: 0.2331 - val_loss: 0.2289\n",
      "EPOCH 24\n",
      "Train on 20000 samples, validate on 2000 samples\n",
      "Epoch 1/1\n",
      "20000/20000 [==============================] - 54s 3ms/step - loss: 0.2280 - val_loss: 0.2085\n",
      "EPOCH 25\n",
      "Train on 20000 samples, validate on 2000 samples\n",
      "Epoch 1/1\n",
      "20000/20000 [==============================] - 54s 3ms/step - loss: 0.2198 - val_loss: 0.2068\n"
     ]
    },
    {
     "data": {
      "image/png": "[encoded data removed]",
      "text/plain": [
       "<Figure size 432x288 with 2 Axes>"
      ]
     },
     "metadata": {
      "needs_background": "light"
     },
     "output_type": "display_data"
    },
    {
     "name": "stdout",
     "output_type": "stream",
     "text": [
      "EPOCH 26\n",
      "Train on 20000 samples, validate on 2000 samples\n",
      "Epoch 1/1\n",
      "20000/20000 [==============================] - 54s 3ms/step - loss: 0.2161 - val_loss: 0.1998\n",
      "EPOCH 27\n",
      "Train on 20000 samples, validate on 2000 samples\n",
      "Epoch 1/1\n",
      "20000/20000 [==============================] - 54s 3ms/step - loss: 0.2098 - val_loss: 0.1955\n",
      "EPOCH 28\n",
      "Train on 20000 samples, validate on 2000 samples\n",
      "Epoch 1/1\n",
      "20000/20000 [==============================] - 54s 3ms/step - loss: 0.2035 - val_loss: 0.1907\n",
      "EPOCH 29\n",
      "Train on 20000 samples, validate on 2000 samples\n",
      "Epoch 1/1\n",
      "20000/20000 [==============================] - 54s 3ms/step - loss: 0.1993 - val_loss: 0.1839\n",
      "EPOCH 30\n",
      "Train on 20000 samples, validate on 2000 samples\n",
      "Epoch 1/1\n",
      "20000/20000 [==============================] - 54s 3ms/step - loss: 0.1966 - val_loss: 0.1828\n"
     ]
    },
    {
     "data": {
      "image/png": "[encoded data removed]",
      "text/plain": [
       "<Figure size 432x288 with 2 Axes>"
      ]
     },
     "metadata": {
      "needs_background": "light"
     },
     "output_type": "display_data"
    },
    {
     "name": "stdout",
     "output_type": "stream",
     "text": [
      "EPOCH 31\n",
      "Train on 20000 samples, validate on 2000 samples\n",
      "Epoch 1/1\n",
      "20000/20000 [==============================] - 54s 3ms/step - loss: 0.1919 - val_loss: 0.1721\n",
      "EPOCH 32\n",
      "Train on 20000 samples, validate on 2000 samples\n",
      "Epoch 1/1\n",
      "20000/20000 [==============================] - 54s 3ms/step - loss: 0.1863 - val_loss: 0.1752\n",
      "EPOCH 33\n",
      "Train on 20000 samples, validate on 2000 samples\n",
      "Epoch 1/1\n",
      "20000/20000 [==============================] - 54s 3ms/step - loss: 0.1830 - val_loss: 0.1688\n",
      "EPOCH 34\n",
      "Train on 20000 samples, validate on 2000 samples\n",
      "Epoch 1/1\n",
      "20000/20000 [==============================] - 54s 3ms/step - loss: 0.1777 - val_loss: 0.1687\n",
      "EPOCH 35\n",
      "Train on 20000 samples, validate on 2000 samples\n",
      "Epoch 1/1\n",
      "20000/20000 [==============================] - 54s 3ms/step - loss: 0.1743 - val_loss: 0.1581\n"
     ]
    },
    {
     "data": {
      "image/png": "[encoded data removed]",
      "text/plain": [
       "<Figure size 432x288 with 2 Axes>"
      ]
     },
     "metadata": {
      "needs_background": "light"
     },
     "output_type": "display_data"
    },
    {
     "name": "stdout",
     "output_type": "stream",
     "text": [
      "EPOCH 36\n",
      "Train on 20000 samples, validate on 2000 samples\n",
      "Epoch 1/1\n",
      "20000/20000 [==============================] - 54s 3ms/step - loss: 0.1728 - val_loss: 0.1616\n",
      "EPOCH 37\n",
      "Train on 20000 samples, validate on 2000 samples\n",
      "Epoch 1/1\n",
      "20000/20000 [==============================] - 54s 3ms/step - loss: 0.1696 - val_loss: 0.1617\n",
      "EPOCH 38\n",
      "Train on 20000 samples, validate on 2000 samples\n",
      "Epoch 1/1\n",
      "20000/20000 [==============================] - 54s 3ms/step - loss: 0.1660 - val_loss: 0.1534\n",
      "EPOCH 39\n",
      "Train on 20000 samples, validate on 2000 samples\n",
      "Epoch 1/1\n",
      "20000/20000 [==============================] - 54s 3ms/step - loss: 0.1610 - val_loss: 0.1486\n",
      "EPOCH 40\n",
      "Train on 20000 samples, validate on 2000 samples\n",
      "Epoch 1/1\n",
      "20000/20000 [==============================] - 54s 3ms/step - loss: 0.1608 - val_loss: 0.1460\n"
     ]
    },
    {
     "data": {
      "image/png": "[encoded data removed]",
      "text/plain": [
       "<Figure size 432x288 with 2 Axes>"
      ]
     },
     "metadata": {
      "needs_background": "light"
     },
     "output_type": "display_data"
    },
    {
     "name": "stdout",
     "output_type": "stream",
     "text": [
      "EPOCH 41\n",
      "Train on 20000 samples, validate on 2000 samples\n",
      "Epoch 1/1\n",
      "20000/20000 [==============================] - 54s 3ms/step - loss: 0.1568 - val_loss: 0.1547\n",
      "EPOCH 42\n",
      "Train on 20000 samples, validate on 2000 samples\n",
      "Epoch 1/1\n",
      "20000/20000 [==============================] - 54s 3ms/step - loss: 0.1536 - val_loss: 0.1439\n",
      "EPOCH 43\n",
      "Train on 20000 samples, validate on 2000 samples\n",
      "Epoch 1/1\n",
      "20000/20000 [==============================] - 54s 3ms/step - loss: 0.1513 - val_loss: 0.1421\n",
      "EPOCH 44\n",
      "Train on 20000 samples, validate on 2000 samples\n",
      "Epoch 1/1\n",
      "20000/20000 [==============================] - 54s 3ms/step - loss: 0.1480 - val_loss: 0.1358\n",
      "EPOCH 45\n",
      "Train on 20000 samples, validate on 2000 samples\n",
      "Epoch 1/1\n",
      "20000/20000 [==============================] - 54s 3ms/step - loss: 0.1457 - val_loss: 0.1514\n"
     ]
    },
    {
     "data": {
      "image/png": "[encoded data removed]",
      "text/plain": [
       "<Figure size 432x288 with 2 Axes>"
      ]
     },
     "metadata": {
      "needs_background": "light"
     },
     "output_type": "display_data"
    },
    {
     "name": "stdout",
     "output_type": "stream",
     "text": [
      "EPOCH 46\n",
      "Train on 20000 samples, validate on 2000 samples\n",
      "Epoch 1/1\n",
      "20000/20000 [==============================] - 54s 3ms/step - loss: 0.1451 - val_loss: 0.1486\n",
      "EPOCH 47\n",
      "Train on 20000 samples, validate on 2000 samples\n",
      "Epoch 1/1\n",
      "20000/20000 [==============================] - 54s 3ms/step - loss: 0.1433 - val_loss: 0.1314\n",
      "EPOCH 48\n",
      "Train on 20000 samples, validate on 2000 samples\n",
      "Epoch 1/1\n",
      "20000/20000 [==============================] - 54s 3ms/step - loss: 0.1393 - val_loss: 0.1298\n",
      "EPOCH 49\n",
      "Train on 20000 samples, validate on 2000 samples\n",
      "Epoch 1/1\n",
      "20000/20000 [==============================] - 54s 3ms/step - loss: 0.1369 - val_loss: 0.1270\n",
      "EPOCH 50\n",
      "Train on 20000 samples, validate on 2000 samples\n",
      "Epoch 1/1\n",
      "20000/20000 [==============================] - 54s 3ms/step - loss: 0.1355 - val_loss: 0.1235\n"
     ]
    },
    {
     "data": {
      "image/png": "[encoded data removed]",
      "text/plain": [
       "<Figure size 432x288 with 2 Axes>"
      ]
     },
     "metadata": {
      "needs_background": "light"
     },
     "output_type": "display_data"
    },
    {
     "name": "stdout",
     "output_type": "stream",
     "text": [
      "EPOCH 51\n",
      "Train on 20000 samples, validate on 2000 samples\n",
      "Epoch 1/1\n",
      "20000/20000 [==============================] - 54s 3ms/step - loss: 0.1348 - val_loss: 0.1299\n",
      "EPOCH 52\n",
      "Train on 20000 samples, validate on 2000 samples\n",
      "Epoch 1/1\n",
      "20000/20000 [==============================] - 54s 3ms/step - loss: 0.1341 - val_loss: 0.1222\n",
      "EPOCH 53\n",
      "Train on 20000 samples, validate on 2000 samples\n",
      "Epoch 1/1\n",
      "20000/20000 [==============================] - 54s 3ms/step - loss: 0.1298 - val_loss: 0.1218\n",
      "EPOCH 54\n",
      "Train on 20000 samples, validate on 2000 samples\n",
      "Epoch 1/1\n",
      "20000/20000 [==============================] - 54s 3ms/step - loss: 0.1268 - val_loss: 0.1185\n",
      "EPOCH 55\n",
      "Train on 20000 samples, validate on 2000 samples\n",
      "Epoch 1/1\n",
      "20000/20000 [==============================] - 54s 3ms/step - loss: 0.1262 - val_loss: 0.1183\n"
     ]
    },
    {
     "data": {
      "image/png": "[encoded data removed]",
      "text/plain": [
       "<Figure size 432x288 with 2 Axes>"
      ]
     },
     "metadata": {
      "needs_background": "light"
     },
     "output_type": "display_data"
    },
    {
     "name": "stdout",
     "output_type": "stream",
     "text": [
      "EPOCH 56\n",
      "Train on 20000 samples, validate on 2000 samples\n",
      "Epoch 1/1\n",
      "20000/20000 [==============================] - 54s 3ms/step - loss: 0.1246 - val_loss: 0.1149\n",
      "EPOCH 57\n",
      "Train on 20000 samples, validate on 2000 samples\n",
      "Epoch 1/1\n",
      "20000/20000 [==============================] - 54s 3ms/step - loss: 0.1240 - val_loss: 0.1168\n",
      "EPOCH 58\n",
      "Train on 20000 samples, validate on 2000 samples\n",
      "Epoch 1/1\n",
      "20000/20000 [==============================] - 54s 3ms/step - loss: 0.1227 - val_loss: 0.1162\n",
      "EPOCH 59\n",
      "Train on 20000 samples, validate on 2000 samples\n",
      "Epoch 1/1\n",
      "20000/20000 [==============================] - 54s 3ms/step - loss: 0.1204 - val_loss: 0.1153\n",
      "EPOCH 60\n",
      "Train on 20000 samples, validate on 2000 samples\n",
      "Epoch 1/1\n",
      "20000/20000 [==============================] - 54s 3ms/step - loss: 0.1194 - val_loss: 0.1091\n"
     ]
    },
    {
     "data": {
      "image/png": "[encoded data removed]",
      "text/plain": [
       "<Figure size 432x288 with 2 Axes>"
      ]
     },
     "metadata": {
      "needs_background": "light"
     },
     "output_type": "display_data"
    },
    {
     "name": "stdout",
     "output_type": "stream",
     "text": [
      "EPOCH 61\n",
      "Train on 20000 samples, validate on 2000 samples\n",
      "Epoch 1/1\n",
      "20000/20000 [==============================] - 54s 3ms/step - loss: 0.1165 - val_loss: 0.1122\n",
      "EPOCH 62\n",
      "Train on 20000 samples, validate on 2000 samples\n",
      "Epoch 1/1\n",
      "20000/20000 [==============================] - 54s 3ms/step - loss: 0.1164 - val_loss: 0.1099\n",
      "EPOCH 63\n",
      "Train on 20000 samples, validate on 2000 samples\n",
      "Epoch 1/1\n",
      "20000/20000 [==============================] - 54s 3ms/step - loss: 0.1157 - val_loss: 0.1082\n",
      "EPOCH 64\n",
      "Train on 20000 samples, validate on 2000 samples\n",
      "Epoch 1/1\n",
      "20000/20000 [==============================] - 54s 3ms/step - loss: 0.1122 - val_loss: 0.1027\n",
      "EPOCH 65\n",
      "Train on 20000 samples, validate on 2000 samples\n",
      "Epoch 1/1\n",
      "20000/20000 [==============================] - 54s 3ms/step - loss: 0.1131 - val_loss: 0.1040\n"
     ]
    },
    {
     "data": {
      "image/png": "[encoded data removed]",
      "text/plain": [
       "<Figure size 432x288 with 2 Axes>"
      ]
     },
     "metadata": {
      "needs_background": "light"
     },
     "output_type": "display_data"
    },
    {
     "name": "stdout",
     "output_type": "stream",
     "text": [
      "EPOCH 66\n",
      "Train on 20000 samples, validate on 2000 samples\n",
      "Epoch 1/1\n",
      "20000/20000 [==============================] - 54s 3ms/step - loss: 0.1119 - val_loss: 0.1039\n",
      "EPOCH 67\n",
      "Train on 20000 samples, validate on 2000 samples\n",
      "Epoch 1/1\n",
      "20000/20000 [==============================] - 54s 3ms/step - loss: 0.1094 - val_loss: 0.1024\n",
      "EPOCH 68\n",
      "Train on 20000 samples, validate on 2000 samples\n",
      "Epoch 1/1\n",
      "20000/20000 [==============================] - 54s 3ms/step - loss: 0.1089 - val_loss: 0.1007\n",
      "EPOCH 69\n",
      "Train on 20000 samples, validate on 2000 samples\n",
      "Epoch 1/1\n",
      "20000/20000 [==============================] - 54s 3ms/step - loss: 0.1085 - val_loss: 0.1016\n",
      "EPOCH 70\n",
      "Train on 20000 samples, validate on 2000 samples\n",
      "Epoch 1/1\n",
      "20000/20000 [==============================] - 54s 3ms/step - loss: 0.1073 - val_loss: 0.1032\n"
     ]
    },
    {
     "data": {
      "image/png": "[encoded data removed]",
      "text/plain": [
       "<Figure size 432x288 with 2 Axes>"
      ]
     },
     "metadata": {
      "needs_background": "light"
     },
     "output_type": "display_data"
    },
    {
     "name": "stdout",
     "output_type": "stream",
     "text": [
      "EPOCH 71\n",
      "Train on 20000 samples, validate on 2000 samples\n",
      "Epoch 1/1\n",
      "20000/20000 [==============================] - 54s 3ms/step - loss: 0.1052 - val_loss: 0.0994\n",
      "EPOCH 72\n",
      "Train on 20000 samples, validate on 2000 samples\n",
      "Epoch 1/1\n",
      "20000/20000 [==============================] - 54s 3ms/step - loss: 0.1042 - val_loss: 0.0971\n",
      "EPOCH 73\n",
      "Train on 20000 samples, validate on 2000 samples\n",
      "Epoch 1/1\n",
      "20000/20000 [==============================] - 54s 3ms/step - loss: 0.1023 - val_loss: 0.0926\n",
      "EPOCH 74\n",
      "Train on 20000 samples, validate on 2000 samples\n",
      "Epoch 1/1\n",
      "20000/20000 [==============================] - 54s 3ms/step - loss: 0.1021 - val_loss: 0.0949\n",
      "EPOCH 75\n",
      "Train on 20000 samples, validate on 2000 samples\n",
      "Epoch 1/1\n",
      "20000/20000 [==============================] - 54s 3ms/step - loss: 0.1008 - val_loss: 0.0956\n"
     ]
    },
    {
     "data": {
      "image/png": "[encoded data removed]",
      "text/plain": [
       "<Figure size 432x288 with 2 Axes>"
      ]
     },
     "metadata": {
      "needs_background": "light"
     },
     "output_type": "display_data"
    },
    {
     "name": "stdout",
     "output_type": "stream",
     "text": [
      "EPOCH 76\n",
      "Train on 20000 samples, validate on 2000 samples\n",
      "Epoch 1/1\n",
      "20000/20000 [==============================] - 54s 3ms/step - loss: 0.1012 - val_loss: 0.0913\n",
      "EPOCH 77\n",
      "Train on 20000 samples, validate on 2000 samples\n",
      "Epoch 1/1\n",
      "20000/20000 [==============================] - 54s 3ms/step - loss: 0.1003 - val_loss: 0.0992\n",
      "EPOCH 78\n",
      "Train on 20000 samples, validate on 2000 samples\n",
      "Epoch 1/1\n",
      "20000/20000 [==============================] - 54s 3ms/step - loss: 0.0994 - val_loss: 0.0897\n",
      "EPOCH 79\n",
      "Train on 20000 samples, validate on 2000 samples\n",
      "Epoch 1/1\n",
      "20000/20000 [==============================] - 54s 3ms/step - loss: 0.0969 - val_loss: 0.0886\n",
      "EPOCH 80\n",
      "Train on 20000 samples, validate on 2000 samples\n",
      "Epoch 1/1\n",
      "20000/20000 [==============================] - 54s 3ms/step - loss: 0.0957 - val_loss: 0.0891\n"
     ]
    },
    {
     "data": {
      "image/png": "[encoded data removed]",
      "text/plain": [
       "<Figure size 432x288 with 2 Axes>"
      ]
     },
     "metadata": {
      "needs_background": "light"
     },
     "output_type": "display_data"
    },
    {
     "name": "stdout",
     "output_type": "stream",
     "text": [
      "EPOCH 81\n",
      "Train on 20000 samples, validate on 2000 samples\n",
      "Epoch 1/1\n",
      "  192/20000 [..............................] - ETA: 53s - loss: 0.0999"
     ]
    },
    {
     "ename": "KeyboardInterrupt",
     "evalue": "",
     "output_type": "error",
     "traceback": [
      "\u001b[0;31m---------------------------------------------------------------------------\u001b[0m",
      "\u001b[0;31mKeyboardInterrupt\u001b[0m                         Traceback (most recent call last)",
      "\u001b[0;32m<ipython-input-24-d49e0d8fb33a>\u001b[0m in \u001b[0;36m<module>\u001b[0;34m\u001b[0m\n\u001b[1;32m      8\u001b[0m                      \u001b[0mepochs\u001b[0m\u001b[0;34m=\u001b[0m\u001b[0;36m1\u001b[0m\u001b[0;34m,\u001b[0m\u001b[0;34m\u001b[0m\u001b[0;34m\u001b[0m\u001b[0m\n\u001b[1;32m      9\u001b[0m                      \u001b[0mbatch_size\u001b[0m\u001b[0;34m=\u001b[0m\u001b[0;36m32\u001b[0m\u001b[0;34m,\u001b[0m\u001b[0;34m\u001b[0m\u001b[0;34m\u001b[0m\u001b[0m\n\u001b[0;32m---> 10\u001b[0;31m                      shuffle=True)\n\u001b[0m\u001b[1;32m     11\u001b[0m     \u001b[0mhistory\u001b[0m\u001b[0;34m[\u001b[0m\u001b[0;34m\"loss\"\u001b[0m\u001b[0;34m]\u001b[0m\u001b[0;34m.\u001b[0m\u001b[0mappend\u001b[0m\u001b[0;34m(\u001b[0m\u001b[0mhist\u001b[0m\u001b[0;34m.\u001b[0m\u001b[0mhistory\u001b[0m\u001b[0;34m[\u001b[0m\u001b[0;34m\"loss\"\u001b[0m\u001b[0;34m]\u001b[0m\u001b[0;34m[\u001b[0m\u001b[0;36m0\u001b[0m\u001b[0;34m]\u001b[0m\u001b[0;34m)\u001b[0m\u001b[0;34m\u001b[0m\u001b[0;34m\u001b[0m\u001b[0m\n\u001b[1;32m     12\u001b[0m     \u001b[0mhistory\u001b[0m\u001b[0;34m[\u001b[0m\u001b[0;34m\"val_loss\"\u001b[0m\u001b[0;34m]\u001b[0m\u001b[0;34m.\u001b[0m\u001b[0mappend\u001b[0m\u001b[0;34m(\u001b[0m\u001b[0mhist\u001b[0m\u001b[0;34m.\u001b[0m\u001b[0mhistory\u001b[0m\u001b[0;34m[\u001b[0m\u001b[0;34m\"val_loss\"\u001b[0m\u001b[0;34m]\u001b[0m\u001b[0;34m[\u001b[0m\u001b[0;36m0\u001b[0m\u001b[0;34m]\u001b[0m\u001b[0;34m)\u001b[0m\u001b[0;34m\u001b[0m\u001b[0;34m\u001b[0m\u001b[0m\n",
      "\u001b[0;32m~/TrackIt/src/cnn.py\u001b[0m in \u001b[0;36mtrain\u001b[0;34m(self, X_train, Y_train, X_val, Y_val, epochs, batch_size, shuffle)\u001b[0m\n\u001b[1;32m    123\u001b[0m                     \u001b[0mbatch_size\u001b[0m\u001b[0;34m=\u001b[0m\u001b[0mbatch_size\u001b[0m\u001b[0;34m,\u001b[0m\u001b[0;34m\u001b[0m\u001b[0;34m\u001b[0m\u001b[0m\n\u001b[1;32m    124\u001b[0m                     \u001b[0mshuffle\u001b[0m\u001b[0;34m=\u001b[0m\u001b[0mshuffle\u001b[0m\u001b[0;34m,\u001b[0m\u001b[0;34m\u001b[0m\u001b[0;34m\u001b[0m\u001b[0m\n\u001b[0;32m--> 125\u001b[0;31m                     \u001b[0mvalidation_data\u001b[0m\u001b[0;34m=\u001b[0m\u001b[0;34m(\u001b[0m\u001b[0mX_val\u001b[0m\u001b[0;34m,\u001b[0m \u001b[0mY_val\u001b[0m\u001b[0;34m)\u001b[0m\u001b[0;34m\u001b[0m\u001b[0;34m\u001b[0m\u001b[0m\n\u001b[0m\u001b[1;32m    126\u001b[0m                     \u001b[0;31m# callbacks=[self.status_callback, self.checkpoint]\u001b[0m\u001b[0;34m\u001b[0m\u001b[0;34m\u001b[0m\u001b[0;34m\u001b[0m\u001b[0m\n\u001b[1;32m    127\u001b[0m                 )\n",
      "\u001b[0;32m~/anaconda3/envs/envTF113/lib/python3.6/site-packages/keras/engine/training.py\u001b[0m in \u001b[0;36mfit\u001b[0;34m(self, x, y, batch_size, epochs, verbose, callbacks, validation_split, validation_data, shuffle, class_weight, sample_weight, initial_epoch, steps_per_epoch, validation_steps, validation_freq, max_queue_size, workers, use_multiprocessing, **kwargs)\u001b[0m\n\u001b[1;32m   1237\u001b[0m                                         \u001b[0msteps_per_epoch\u001b[0m\u001b[0;34m=\u001b[0m\u001b[0msteps_per_epoch\u001b[0m\u001b[0;34m,\u001b[0m\u001b[0;34m\u001b[0m\u001b[0;34m\u001b[0m\u001b[0m\n\u001b[1;32m   1238\u001b[0m                                         \u001b[0mvalidation_steps\u001b[0m\u001b[0;34m=\u001b[0m\u001b[0mvalidation_steps\u001b[0m\u001b[0;34m,\u001b[0m\u001b[0;34m\u001b[0m\u001b[0;34m\u001b[0m\u001b[0m\n\u001b[0;32m-> 1239\u001b[0;31m                                         validation_freq=validation_freq)\n\u001b[0m\u001b[1;32m   1240\u001b[0m \u001b[0;34m\u001b[0m\u001b[0m\n\u001b[1;32m   1241\u001b[0m     def evaluate(self,\n",
      "\u001b[0;32m~/anaconda3/envs/envTF113/lib/python3.6/site-packages/keras/engine/training_arrays.py\u001b[0m in \u001b[0;36mfit_loop\u001b[0;34m(model, fit_function, fit_inputs, out_labels, batch_size, epochs, verbose, callbacks, val_function, val_inputs, shuffle, initial_epoch, steps_per_epoch, validation_steps, validation_freq)\u001b[0m\n\u001b[1;32m    194\u001b[0m                     \u001b[0mins_batch\u001b[0m\u001b[0;34m[\u001b[0m\u001b[0mi\u001b[0m\u001b[0;34m]\u001b[0m \u001b[0;34m=\u001b[0m \u001b[0mins_batch\u001b[0m\u001b[0;34m[\u001b[0m\u001b[0mi\u001b[0m\u001b[0;34m]\u001b[0m\u001b[0;34m.\u001b[0m\u001b[0mtoarray\u001b[0m\u001b[0;34m(\u001b[0m\u001b[0;34m)\u001b[0m\u001b[0;34m\u001b[0m\u001b[0;34m\u001b[0m\u001b[0m\n\u001b[1;32m    195\u001b[0m \u001b[0;34m\u001b[0m\u001b[0m\n\u001b[0;32m--> 196\u001b[0;31m                 \u001b[0mouts\u001b[0m \u001b[0;34m=\u001b[0m \u001b[0mfit_function\u001b[0m\u001b[0;34m(\u001b[0m\u001b[0mins_batch\u001b[0m\u001b[0;34m)\u001b[0m\u001b[0;34m\u001b[0m\u001b[0;34m\u001b[0m\u001b[0m\n\u001b[0m\u001b[1;32m    197\u001b[0m                 \u001b[0mouts\u001b[0m \u001b[0;34m=\u001b[0m \u001b[0mto_list\u001b[0m\u001b[0;34m(\u001b[0m\u001b[0mouts\u001b[0m\u001b[0;34m)\u001b[0m\u001b[0;34m\u001b[0m\u001b[0;34m\u001b[0m\u001b[0m\n\u001b[1;32m    198\u001b[0m                 \u001b[0;32mfor\u001b[0m \u001b[0ml\u001b[0m\u001b[0;34m,\u001b[0m \u001b[0mo\u001b[0m \u001b[0;32min\u001b[0m \u001b[0mzip\u001b[0m\u001b[0;34m(\u001b[0m\u001b[0mout_labels\u001b[0m\u001b[0;34m,\u001b[0m \u001b[0mouts\u001b[0m\u001b[0;34m)\u001b[0m\u001b[0;34m:\u001b[0m\u001b[0;34m\u001b[0m\u001b[0;34m\u001b[0m\u001b[0m\n",
      "\u001b[0;32m~/anaconda3/envs/envTF113/lib/python3.6/site-packages/tensorflow/python/keras/backend.py\u001b[0m in \u001b[0;36m__call__\u001b[0;34m(self, inputs)\u001b[0m\n\u001b[1;32m   3074\u001b[0m \u001b[0;34m\u001b[0m\u001b[0m\n\u001b[1;32m   3075\u001b[0m     fetched = self._callable_fn(*array_vals,\n\u001b[0;32m-> 3076\u001b[0;31m                                 run_metadata=self.run_metadata)\n\u001b[0m\u001b[1;32m   3077\u001b[0m     \u001b[0mself\u001b[0m\u001b[0;34m.\u001b[0m\u001b[0m_call_fetch_callbacks\u001b[0m\u001b[0;34m(\u001b[0m\u001b[0mfetched\u001b[0m\u001b[0;34m[\u001b[0m\u001b[0;34m-\u001b[0m\u001b[0mlen\u001b[0m\u001b[0;34m(\u001b[0m\u001b[0mself\u001b[0m\u001b[0;34m.\u001b[0m\u001b[0m_fetches\u001b[0m\u001b[0;34m)\u001b[0m\u001b[0;34m:\u001b[0m\u001b[0;34m]\u001b[0m\u001b[0;34m)\u001b[0m\u001b[0;34m\u001b[0m\u001b[0;34m\u001b[0m\u001b[0m\n\u001b[1;32m   3078\u001b[0m     return nest.pack_sequence_as(self._outputs_structure,\n",
      "\u001b[0;32m~/anaconda3/envs/envTF113/lib/python3.6/site-packages/tensorflow/python/client/session.py\u001b[0m in \u001b[0;36m__call__\u001b[0;34m(self, *args, **kwargs)\u001b[0m\n\u001b[1;32m   1437\u001b[0m           ret = tf_session.TF_SessionRunCallable(\n\u001b[1;32m   1438\u001b[0m               \u001b[0mself\u001b[0m\u001b[0;34m.\u001b[0m\u001b[0m_session\u001b[0m\u001b[0;34m.\u001b[0m\u001b[0m_session\u001b[0m\u001b[0;34m,\u001b[0m \u001b[0mself\u001b[0m\u001b[0;34m.\u001b[0m\u001b[0m_handle\u001b[0m\u001b[0;34m,\u001b[0m \u001b[0margs\u001b[0m\u001b[0;34m,\u001b[0m \u001b[0mstatus\u001b[0m\u001b[0;34m,\u001b[0m\u001b[0;34m\u001b[0m\u001b[0;34m\u001b[0m\u001b[0m\n\u001b[0;32m-> 1439\u001b[0;31m               run_metadata_ptr)\n\u001b[0m\u001b[1;32m   1440\u001b[0m         \u001b[0;32mif\u001b[0m \u001b[0mrun_metadata\u001b[0m\u001b[0;34m:\u001b[0m\u001b[0;34m\u001b[0m\u001b[0;34m\u001b[0m\u001b[0m\n\u001b[1;32m   1441\u001b[0m           \u001b[0mproto_data\u001b[0m \u001b[0;34m=\u001b[0m \u001b[0mtf_session\u001b[0m\u001b[0;34m.\u001b[0m\u001b[0mTF_GetBuffer\u001b[0m\u001b[0;34m(\u001b[0m\u001b[0mrun_metadata_ptr\u001b[0m\u001b[0;34m)\u001b[0m\u001b[0;34m\u001b[0m\u001b[0;34m\u001b[0m\u001b[0m\n",
      "\u001b[0;31mKeyboardInterrupt\u001b[0m: "
     ]
    }
   ],
   "source": [
    "# TRAIN LOOP\n",
    "for epoch in range(1000):\n",
    "    print('EPOCH %d' % (epoch))\n",
    "    hist  = ae.train(X_train=X_train, \n",
    "                     Y_train=X_train, \n",
    "                     X_val=cnn_data_loader.X_test, \n",
    "                     Y_val=cnn_data_loader.X_test, \n",
    "                     epochs=1, \n",
    "                     batch_size=32, \n",
    "                     shuffle=True)\n",
    "    history[\"loss\"].append(hist.history[\"loss\"][0])\n",
    "    history[\"val_loss\"].append(hist.history[\"val_loss\"][0])\n",
    "    if epoch % 5 == 0:\n",
    "        i = random.randint(0, cnn_data_loader.X_train.shape[0]-1)\n",
    "        x = cnn_data_loader.X_train[i:i+1]\n",
    "        y = ae.autoencoder.predict(x)\n",
    "        show_reconstruction(x[0], y[0])\n",
    "    ae.save_weights(root+\"/../models/autoencoder_32_v3.h5\")"
   ]
  },
  {
   "cell_type": "code",
   "execution_count": 14,
   "metadata": {},
   "outputs": [
    {
     "data": {
      "image/png": "[encoded data removed]",
      "text/plain": [
       "<Figure size 432x288 with 1 Axes>"
      ]
     },
     "metadata": {
      "needs_background": "light"
     },
     "output_type": "display_data"
    }
   ],
   "source": [
    "# Plot training & validation loss values\n",
    "plt.plot(history['loss'])\n",
    "plt.plot(history['val_loss'])\n",
    "plt.title('Model loss')\n",
    "plt.ylabel('Loss')\n",
    "plt.xlabel('Epoch')\n",
    "plt.legend(['Train', 'Validation'], loc='upper left')\n",
    "plt.show()"
   ]
  },
  {
   "cell_type": "code",
   "execution_count": 25,
   "metadata": {},
   "outputs": [],
   "source": [
    "Y_train_hat = ae.autoencoder.predict(cnn_data_loader.X_train)\n",
    "Y_val_hat = ae.autoencoder.predict(cnn_data_loader.X_val)\n",
    "Y_test_hat = ae.autoencoder.predict(cnn_data_loader.X_test)"
   ]
  },
  {
   "cell_type": "code",
   "execution_count": 31,
   "metadata": {},
   "outputs": [
    {
     "data": {
      "image/png": "[encoded data removed]",
      "text/plain": [
       "<Figure size 1440x288 with 20 Axes>"
      ]
     },
     "metadata": {
      "needs_background": "light"
     },
     "output_type": "display_data"
    }
   ],
   "source": [
    "show_reconstructions(cnn_data_loader.Y_test, Y_test_hat, 10, (50,50), (20,4), rescale=True)"
   ]
  }
 ],
 "metadata": {
  "file_extension": ".py",
  "kernelspec": {
   "display_name": "Python 3",
   "language": "python",
   "name": "python3"
  },
  "language_info": {
   "codemirror_mode": {
    "name": "ipython",
    "version": 3
   },
   "file_extension": ".py",
   "mimetype": "text/x-python",
   "name": "python",
   "nbconvert_exporter": "python",
   "pygments_lexer": "ipython3",
   "version": "3.7.3"
  },
  "mimetype": "text/x-python",
  "name": "python",
  "npconvert_exporter": "python",
  "pygments_lexer": "ipython3",
  "version": 3
 },
 "nbformat": 4,
 "nbformat_minor": 2
}
