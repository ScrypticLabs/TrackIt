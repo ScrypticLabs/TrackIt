{
 "cells": [
  {
   "cell_type": "code",
   "execution_count": 1,
   "metadata": {},
   "outputs": [],
   "source": [
    "# THIS NOTEBOOK VISUALIZES 28by28 RESOLTUION DATASET USED TO TRAIN THE Seq2Seq MODEL"
   ]
  },
  {
   "cell_type": "code",
   "execution_count": 2,
   "metadata": {},
   "outputs": [],
   "source": [
    "%load_ext autoreload\n",
    "%autoreload 2"
   ]
  },
  {
   "cell_type": "code",
   "execution_count": 15,
   "metadata": {},
   "outputs": [],
   "source": [
    "import os\n",
    "import numpy as np\n",
    "from data_loader import DataLoader\n",
    "from utils.visualize import show_images_as_video"
   ]
  },
  {
   "cell_type": "code",
   "execution_count": 4,
   "metadata": {},
   "outputs": [],
   "source": [
    "root = os.getcwd()\n",
    "rnn_train_dir = root+\"/../datasets/training_set/data/rnn.npy\"\n",
    "rnn_test_dir = root+\"/../datasets/test_set/data/rnn.npy\""
   ]
  },
  {
   "cell_type": "code",
   "execution_count": 5,
   "metadata": {},
   "outputs": [],
   "source": [
    "# WE WON'T USE THE TEST DATA AT ALL AND INSTEAD SPLIT THE TRAIN DATA INTO TRAIN, TEST, AND VALIDATION DATASETS WITH THE DATA LOADER"
   ]
  },
  {
   "cell_type": "code",
   "execution_count": 6,
   "metadata": {},
   "outputs": [],
   "source": [
    "rnn_data_loader = DataLoader(features_dir=rnn_train_dir, labels_dir=rnn_train_dir)"
   ]
  },
  {
   "cell_type": "code",
   "execution_count": 7,
   "metadata": {},
   "outputs": [],
   "source": [
    "rnn_data_loader.split_train_val_test(train=0.7, val=0.2, test=0.1)"
   ]
  },
  {
   "cell_type": "code",
   "execution_count": 8,
   "metadata": {},
   "outputs": [],
   "source": [
    "# NORMALIZE ALL PIXEL VALUES FROM 0-255 TO O-1"
   ]
  },
  {
   "cell_type": "code",
   "execution_count": 9,
   "metadata": {},
   "outputs": [],
   "source": [
    "rnn_data_loader.preprocess(rescale=True)"
   ]
  },
  {
   "cell_type": "code",
   "execution_count": 10,
   "metadata": {},
   "outputs": [
    {
     "data": {
      "text/plain": [
       "(121, 105, 28, 28, 3)"
      ]
     },
     "execution_count": 10,
     "metadata": {},
     "output_type": "execute_result"
    }
   ],
   "source": [
    "rnn_data_loader.X.shape"
   ]
  },
  {
   "cell_type": "code",
   "execution_count": 18,
   "metadata": {},
   "outputs": [
    {
     "data": {
      "image/png": "[encoded data removed]",
      "image/svg+xml": [
       "<?xml version=\"1.0\" encoding=\"utf-8\" standalone=\"no\"?>\n",
       "<!DOCTYPE svg PUBLIC \"-//W3C//DTD SVG 1.1//EN\"\n",
       "  \"http://www.w3.org/Graphics/SVG/1.1/DTD/svg11.dtd\">\n",
       "<!-- Created with matplotlib (https://matplotlib.org/) -->\n",
       "<svg height=\"282.4pt\" version=\"1.1\" viewBox=\"0 0 282.4 282.4\" width=\"282.4pt\" xmlns=\"http://www.w3.org/2000/svg\" xmlns:xlink=\"http://www.w3.org/1999/xlink\">\n",
       " <defs>\n",
       "  <style type=\"text/css\">\n",
       "*{stroke-linecap:butt;stroke-linejoin:round;white-space:pre;}\n",
       "  </style>\n",
       " </defs>\n",
       " <g id=\"figure_1\">\n",
       "  <g id=\"patch_1\">\n",
       "   <path d=\"M 0 282.4 \n",
       "L 282.4 282.4 \n",
       "L 282.4 0 \n",
       "L 0 0 \n",
       "z\n",
       "\" style=\"fill:none;\"/>\n",
       "  </g>\n",
       "  <g id=\"axes_1\">\n",
       "   <g clip-path=\"url(#p546d9364e5)\">\n",
       "    <image height=\"268\" id=\"image2bb585e00c\" transform=\"scale(1 -1)translate(0 -268)\" width=\"268\" x=\"7\" xlink:href=\"data:image/png;base64,\n",
       "iVBORw0KGgoAAAANSUhEUgAAAQwAAAEMCAYAAAAxjIiTAAAABHNCSVQICAgIfAhkiAAADF5JREFUeJzt3d+KnVcZx/FnvX/2TCZJq9XYWA+kiqQFD7RFEHugeAU5kZ7pJXgRUgSvQgTRQsELUCwFEUSrsWq0FpqaxrQmk9qmnT97v++7lgctLT16vsGdMsbv5/hhzcy79/7NPvjxrHLjxn4L4Pr1a+nMMAzkqKh1BlMdOosopaC5vu/R3DRN/82v8yFdlz+zEvD3mtfpDHyJYq4HaG61yn+3coa83hFvv7GkMzv9J9BZQ91NZzZHb6OzxlVFc6XL/85W2GsZZZWOTOiTy96vDz/8WXTW9j6Vku55BoYkzMCQhBkYkjADQxJmYEjCDAxJmIEhCTMwJGHDa6+9hgYvXryYztCzTp8+nc7QNuU4jukMbXoeHx+jOdIIbY3V8EjTs1X2+5cu/5ml5G3Kd89i7cyvf+OJdOYzj+yhsy7/8dV05je/+is6q6530pmdVd6mjIho9QjNdX3eCK2NvZbzks91Hft//+BDD6YzP/npj9FZfsOQhBkYkjADQxJmYEjCDAxJmIEhCTMwJGEGhiRsqJWtH9vf309nNpsNOmue81LQsrCC0TCw8g3DngV5ZrQsRh5/g2Wfvs/namWFuB6u8tvbO5POjD0rPp09mxfi1ht21nKcryvcbPI1fhERtbL3Ygeef1RW6GuFlPDYWTdev57O7I7sc+Q3DEmYgSEJMzAkYQaGJMzAkIQZGJIwA0MSZmBIwgwMSdiwgmvKSHORXmZM1ted1LMiIshmtK5jP7PrQDuwsVyf5rzFSS/MJm3ciIhLly6lM1+Y8zZoRMQLf3gpnVlYmTi6Vb66MRp7Fn3PGqHLlDdCh569lvNymA/BdYukXdoX9iz8hiEJMzAkYQaGJMzAkIQZGJIwA0MSZmBIwgwMSRhe0Ufm6Fo9UqQqhRWfCFrIomv1SiE5y55rxPb+znEAZaXCClmw3xV/f/FKOnP5MjsrwOPv4X2iBZTdSrD3xbKwO3dHsNeQ3lnbgbJVa/DzBkpZy8ze+37DkIQZGJIwA0MSZmBIwgwMSZiBIQkzMCRhBoYkzMCQhME+n+4e0gjdZq7Ds+BawCj579+1HXRU3+VN1R6uPoyW7/JbT2+jo+iPJKVdWKwOUjqGBeZgH3ObnpK2zMCQhBkYkjADQxJmYEjCDAxJmIEhCTMwJGEWt3TXdR17m5E1cSO8J3ezOcrPAhsNIyK+9eTn0dyZ+0+nM888/QI66/ab+QwtgTW0BpJ9d/AbhiTMwJCEGRiSMANDEmZgSMIMDEmYgSEJMzAkYQaGJGzglwZv0xZziqySA2vk/m/Q1Xt4lR8ZOURHDeOZdKZUeAExmHn8sT101vee+i6a++S5+9OZef19dNaPfvi3dKYFW30Ylcyxz4jfMCRhBoYkzMCQhBkYkjADQxJmYEjCDAxJmIEhCTMwJGHu9NRd1zp2a/A0rdOZcTyLziJ90P2brIF67dV/oblpmtKZq9duorNIgzaCLSVtJf9e0Ap7jfyGIQkzMCRhBoYkzMCQhBkYkjADQxJmYEjCDAxJmMWte0p+mTFsBMU2/5cMoDgUEdHv5ivz6kL+xogSq3Tm5SsbdNZ3vv0UmiP3RL9yBR0Vjb5MyAxmXNEnacsMDEmYgSEJMzAkYQaGJMzAkIQZGJIwA0MSZmBIwk5u0xNfGnxC0QugG7k2+H8de5sdH+cr8wpcS7faOZXOzBO72PmVl9kcKdqynmpEFPLMjtlZHXhm8P36P/6plPRRMjAkYQaGJMzAkIQZGJIwA0MSZmBIwgwMSdjJLW7pLsHVoa2plZWCxhW4AxSedbzJS2BDn5e73p1jZbFo+bPt4OOfltv5UCGr9yJKOQJTFrckbZmBIQkzMCRhBoYkzMCQhBkYkjADQxJmYEjCDAxJ2BCV3fo6R75KrsEa27zKG2plwy7K3St5C2+Bq9gqXFNGThvh5r1VyS8N3syskLt0+XPtdiZ0Vm2wRQhm2sIeRmvgycKm5IgeGWlA3sEc+N3g4kZ0sXNlL2VEyz8jBV7+7DcMSZiBIQkzMCRhBoYkzMCQhBkYkjADQxJmYEjChlpYQaqreammW1irZlznZ5HiSkTEwSbPvG7vi+iszz36BJrbf+Mf6cyb136LzprqzXRmb2QNHdK1qhv4YDs6Bxs/uif4DUMSZmBIwgwMSZiBIQkzMCRhBoYkzMCQhBkYkjADQxI2gA1xERHRgf1jI9yftgs2sYEy6Hs/9L505MJXnkRHfeyhb6K5jy+30pnf3f4BOmv59+vpTIWlS7LhLtouOqsDa90iIspynM7MYRv0TpXy0V+aTfgNQxJmYEjCDAxJmIEhCTMwJGEGhiTMwJCEGRiSMANDEjbQRmVZ5Q3B+Qhe9DvkyydndhdwBNg1WhvbW7rq2Vw/53Mj3HW5AWMzjPV5zNuBpLEbEVHhCzCSemnn/6V7ha+kJMzAkIQZGJIwA0MSZmBIwgwMSZiBIQkzMCRhQ1fZKra55kWepbAW2BHpDrFfK2JZpyMvPv80Ourw1mU0d/BWvlZvuvVndFYPnkWtsGwFbrCuwcppsWZz5GWq3clcN3eSdQX8L4eftwbOIjMRfsOQdAcMDEmYgSEJMzAkYQaGJMzAkIQZGJIwA0MSZmBIwoZd2CLsa96ojMLWuqHm38RW3O2CdX/HB39BZ716mc0RYFteRET0ILOnNcz1Pn9mZWBrFMsA26WN3OZN9y3qpPMbhiTMwJCEGRiSMANDEmZgSMIMDEmYgSEJMzAkYUNX4b2joGx1wLpW0Xc76UxZwbtJ13mhbGdARwXssEWXb8ILupWuTflgv7DDypyvbGuN/Y/oB1LIipjBQysBL/DViec3DEmYgSEJMzAkYQaGJMzAkIQZGJIwA0MSZmBIwgwMSdjQdlhmHE01H+r30FnTAqqXA/h5EREln1uCNSW7xubWx2BdIWiDRkSUPm9BnlrlzdiIiOUw/6HzAuu4A/sDZrC6sfff0j3Dl1ISZmBIwgwMSZiBIQkzMCRhBoYkzMCQhBkYkrDhoLEiz7B7Kp3p3jpmP7Xmd23WBd7HCX7/ZWaFrFW3i+YKKIJNhd1hWsH6uqOJrVEcwOrDAa7omxf2+8eYz5U6srP0vq7b3v/yBj4j9Of5DUMSZmBIwgwMSZiBIQkzMCRhBoYkzMCQhBkYkjADQxI2zDNr4a2md/KZxtqBe6BceoBOish/q4gysBV300xOixhLvr6uNrbirlQyB3O95K3RAlYaRkS0Dl6gTG6dnuFaQL1vnsFnCT7WDjST5w377PoNQxJmYEjCDAxJmIEhCTMwJGEGhiTMwJCEGRiSMANDEjbsxAoN3jflTbCLXz2HznrskUfTmZ/98nl01rNX807oWzO4PDki4LrLiC6v2PWNtUt7dAE0a12Wkv+d8L7p6Au4MDsiast3vUawnaT6QN/D27y3ZBjY6+03DEmYgSEJMzAkYQaGJMzAkIQZGJIwA0MSZmBIwoa+ssw4C+4pfvyRh9FZF84/kM58+cIFdNZzV3+fztCyUvRscAEr+uAmvOgaKGUVVnwqW4z/Alts45w/Cxf03R21sjcZmSMXNkf4DUPSHTAwJGEGhiTMwJCEGRiSMANDEmZgSMIMDEmYgSEJGzbwAuXbS54tzzz3J3TW176UrwP7+aWX0FkTuGg2CrtwmlYSC5gr8LlWcOlxBSsBIyIqeBQduvw5YoTPoq/537kBzVh92DzN6czYs/WaQ5e//5eJtUb9hiEJMzAkYQaGJMzAkIQZGJIwA0MSZmBIwgwMSdgwrFip6daSz/3iyhE669krv05nNjDL1gHuhKS76+a8LEMtwc6aSV8G957ywbqwwwpZHRgRPbg3deZ/gN5D7jqdZlYOPDw8TGd2d8EOzvAbhqQ7YGBIwgwMSZiBIQkzMCRhBoYkzMCQhBkYkjADQxI2rGC78YFPfTqduXHzFvyhZ9KZU2T1XkScHfKq5HrKm24REavVfWiugQuIu4AX5Za8rQfvy47a8jZuH6zZO4LVexERQ+Tt3t1uB52lD5SSv/9JgzMi4ty5c+nMsrBmr98wJGEGhiTMwJCEGRiSMANDEmZgSMIMDEmYgSEJK+/8cx/donn15vV0poK1Yu/+1HxubKy4VZa8ONR6dlHoBEtNNU6nMz1sWw3gDta+sHJdBWWfRv9HFFjkAcUzV/Tdudby9ywtW9WalwjPnz+PzvIbhiTMwJCEGRiSMANDEmZgSMIMDEmYgSEJMzAkYQaGJOw/ogTGbK2qoFIAAAAASUVORK5CYII=\" y=\"-7.4\"/>\n",
       "   </g>\n",
       "  </g>\n",
       " </g>\n",
       " <defs>\n",
       "  <clipPath id=\"p546d9364e5\">\n",
       "   <rect height=\"268\" width=\"268\" x=\"7.2\" y=\"7.2\"/>\n",
       "  </clipPath>\n",
       " </defs>\n",
       "</svg>\n"
      ],
      "text/plain": [
       "<Figure size 432x288 with 1 Axes>"
      ]
     },
     "metadata": {},
     "output_type": "display_data"
    },
    {
     "data": {
      "image/png": "[encoded data removed]",
      "image/svg+xml": [
       "<?xml version=\"1.0\" encoding=\"utf-8\" standalone=\"no\"?>\n",
       "<!DOCTYPE svg PUBLIC \"-//W3C//DTD SVG 1.1//EN\"\n",
       "  \"http://www.w3.org/Graphics/SVG/1.1/DTD/svg11.dtd\">\n",
       "<!-- Created with matplotlib (https://matplotlib.org/) -->\n",
       "<svg height=\"282.4pt\" version=\"1.1\" viewBox=\"0 0 282.4 282.4\" width=\"282.4pt\" xmlns=\"http://www.w3.org/2000/svg\" xmlns:xlink=\"http://www.w3.org/1999/xlink\">\n",
       " <defs>\n",
       "  <style type=\"text/css\">\n",
       "*{stroke-linecap:butt;stroke-linejoin:round;white-space:pre;}\n",
       "  </style>\n",
       " </defs>\n",
       " <g id=\"figure_1\">\n",
       "  <g id=\"patch_1\">\n",
       "   <path d=\"M 0 282.4 \n",
       "L 282.4 282.4 \n",
       "L 282.4 0 \n",
       "L 0 0 \n",
       "z\n",
       "\" style=\"fill:none;\"/>\n",
       "  </g>\n",
       "  <g id=\"axes_1\">\n",
       "   <g clip-path=\"url(#pae887258bc)\">\n",
       "    <image height=\"268\" id=\"image86eb1aa806\" transform=\"scale(1 -1)translate(0 -268)\" width=\"268\" x=\"7\" xlink:href=\"data:image/png;base64,\n",
       "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\" y=\"-7.4\"/>\n",
       "   </g>\n",
       "  </g>\n",
       " </g>\n",
       " <defs>\n",
       "  <clipPath id=\"pae887258bc\">\n",
       "   <rect height=\"268\" width=\"268\" x=\"7.2\" y=\"7.2\"/>\n",
       "  </clipPath>\n",
       " </defs>\n",
       "</svg>\n"
      ],
      "text/plain": [
       "<Figure size 432x288 with 1 Axes>"
      ]
     },
     "metadata": {
      "needs_background": "light"
     },
     "output_type": "display_data"
    }
   ],
   "source": [
    "show_images_as_video(rnn_data_loader.X_train[0])"
   ]
  },
  {
   "cell_type": "code",
   "execution_count": null,
   "metadata": {},
   "outputs": [],
   "source": []
  }
 ],
 "metadata": {
  "file_extension": ".py",
  "kernelspec": {
   "display_name": "Python 3",
   "language": "python",
   "name": "python3"
  },
  "language_info": {
   "codemirror_mode": {
    "name": "ipython",
    "version": 3
   },
   "file_extension": ".py",
   "mimetype": "text/x-python",
   "name": "python",
   "nbconvert_exporter": "python",
   "pygments_lexer": "ipython3",
   "version": "3.7.3"
  },
  "mimetype": "text/x-python",
  "name": "python",
  "npconvert_exporter": "python",
  "pygments_lexer": "ipython3",
  "version": 3
 },
 "nbformat": 4,
 "nbformat_minor": 2
}
